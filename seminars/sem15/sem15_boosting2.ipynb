{
 "cells": [
  {
   "cell_type": "markdown",
   "metadata": {
    "collapsed": true
   },
   "source": [
    "## Современные библиотеки градиентного бустинга\n",
    "\n",
    "Ранее мы использовали наивную версию градиентного бустинга из scikit-learn, [придуманную](https://projecteuclid.org/download/pdf_1/euclid.aos/1013203451) в 1999 году Фридманом. С тех пор было предложено много реализаций, которые оказываются лучше на практике. На сегодняшний день популярны три библиотеки, реализующие градиентный бустинг:\n",
    "* XGBoost. После выхода быстро набрала популярность и оставалась стандартом до конца 2016 года. Одними из основных особенностей имплементации были оптимизированность построения деревьев, а также различные регуляризации модели.\n",
    "* LightGBM. Отличительной чертой является быстрота построения композиции. Например, используется следующий трюк для ускорения обучения: при построении вершины дерева вместо перебора по всем значениям признака производится перебор значений гистограммы этого признака. Таким образом, вместо $O(\\ell)$ требуется $O(\\text{#bins})$. Кроме того, в отличие от других библиотек, которые строят дерево по уровням, LightGBM использует стратегию best-first, т.е. на каждом шаге строит вершину, дающую наибольшее уменьшение функционала. Таким образом, каждое дерево является цепочкой с прикрепленными листьями.\n",
    "* CatBoost. Библиотека от компании Яндекс. Позволяет автоматически обрабатывать категориальные признаки (даже если их значения представлены в виде строк). Кроме того, алгоритм является менее чувствительным к выбору конкретных гиперпараметров. За счёт этого уменьшается время, которое тратит человек на подбор оптимальных гиперпараметров."
   ]
  },
  {
   "cell_type": "markdown",
   "metadata": {},
   "source": [
    "### Основные параметры\n",
    "\n",
    "(lightgbm/catboost)\n",
    "\n",
    "* objective – функционал, на который будет настраиваться композиция\n",
    "* eta / learning_rate – темп (скорость) обучения\n",
    "* num_iterations / n_estimators  – число итераций бустинга\n",
    "\n",
    "#### Параметры, отвечающие за сложность деревьев\n",
    "* max_depth – максимальная глубина \n",
    "* max_leaves / num_leaves – максимальное число вершин в дереве\n",
    "* gamma / min_gain_to_split – порог на уменьшение функции ошибки при расщеплении в дереве\n",
    "* min_data_in_leaf – минимальное число объектов в листе\n",
    "* min_sum_hessian_in_leaf – минимальная сумма весов объектов в листе, минимальное число объектов, при котором делается расщепление \n",
    "* lambda – коэффициент регуляризации (L2)\n",
    "* subsample / bagging_fraction – какую часть объектов обучения использовать для построения одного дерева \n",
    "* colsample_bytree / feature_fraction – какую часть признаков использовать для построения одного дерева \n",
    "\n",
    "Подбор всех этих параметров — настоящее искусство. Но начать их настройку можно с самых главных параметров: learning_rate и n_estimators. Обычно один из них фиксируют, а оставшийся из этих двух параметров подбирают (например, фиксируют n_estimators=1000 и подбирают learning_rate). Следующим по важности является max_depth. В силу того, что мы заинтересованы в неглубоких деревьях, обычно его перебирают из диапазона [3; 7].\n",
    "\n",
    "\n"
   ]
  },
  {
   "cell_type": "code",
   "execution_count": 1,
   "metadata": {},
   "outputs": [],
   "source": [
    "%matplotlib inline\n",
    "import numpy as np\n",
    "import matplotlib.pyplot as plt\n",
    "import pandas as pd"
   ]
  },
  {
   "cell_type": "code",
   "execution_count": 2,
   "metadata": {
    "scrolled": true
   },
   "outputs": [
    {
     "name": "stdout",
     "output_type": "stream",
     "text": [
      "Collecting catboost\n",
      "  Downloading https://files.pythonhosted.org/packages/24/d3/6336c9dece6d189c8055e13809e5b3799120c2e83776a85546790403f4f8/catboost-0.23.2-cp37-none-win_amd64.whl (63.6MB)\n",
      "Requirement already satisfied: pandas>=0.24.0 in c:\\anaconda\\lib\\site-packages (from catboost) (0.24.2)\n",
      "Requirement already satisfied: plotly in c:\\anaconda\\lib\\site-packages (from catboost) (4.6.0)\n",
      "Requirement already satisfied: matplotlib in c:\\anaconda\\lib\\site-packages (from catboost) (3.1.0)\n",
      "Requirement already satisfied: numpy>=1.16.0 in c:\\anaconda\\lib\\site-packages (from catboost) (1.16.4)\n",
      "Requirement already satisfied: scipy in c:\\anaconda\\lib\\site-packages (from catboost) (1.2.1)\n",
      "Requirement already satisfied: six in c:\\anaconda\\lib\\site-packages (from catboost) (1.12.0)\n",
      "Collecting graphviz (from catboost)\n",
      "  Downloading https://files.pythonhosted.org/packages/83/cc/c62100906d30f95d46451c15eb407da7db201e30f42008f3643945910373/graphviz-0.14-py2.py3-none-any.whl\n",
      "Requirement already satisfied: python-dateutil>=2.5.0 in c:\\anaconda\\lib\\site-packages (from pandas>=0.24.0->catboost) (2.8.0)\n",
      "Requirement already satisfied: pytz>=2011k in c:\\anaconda\\lib\\site-packages (from pandas>=0.24.0->catboost) (2019.1)\n",
      "Requirement already satisfied: retrying>=1.3.3 in c:\\anaconda\\lib\\site-packages (from plotly->catboost) (1.3.3)\n",
      "Requirement already satisfied: cycler>=0.10 in c:\\anaconda\\lib\\site-packages (from matplotlib->catboost) (0.10.0)\n",
      "Requirement already satisfied: kiwisolver>=1.0.1 in c:\\anaconda\\lib\\site-packages (from matplotlib->catboost) (1.1.0)\n",
      "Requirement already satisfied: pyparsing!=2.0.4,!=2.1.2,!=2.1.6,>=2.0.1 in c:\\anaconda\\lib\\site-packages (from matplotlib->catboost) (2.4.0)\n",
      "Requirement already satisfied: setuptools in c:\\anaconda\\lib\\site-packages (from kiwisolver>=1.0.1->matplotlib->catboost) (41.0.1)\n",
      "Installing collected packages: graphviz, catboost\n",
      "Successfully installed catboost-0.23.2 graphviz-0.14\n",
      "Collecting lightgbm\n",
      "  Downloading https://files.pythonhosted.org/packages/1f/cb/a8ec24334c35a7d0c87b4e4e056bd2137573c7c1bd81c760b79a2f370254/lightgbm-2.3.1-py2.py3-none-win_amd64.whl (544kB)\n",
      "Requirement already satisfied: scipy in c:\\anaconda\\lib\\site-packages (from lightgbm) (1.2.1)\n",
      "Requirement already satisfied: numpy in c:\\anaconda\\lib\\site-packages (from lightgbm) (1.16.4)\n",
      "Requirement already satisfied: scikit-learn in c:\\anaconda\\lib\\site-packages (from lightgbm) (0.21.2)\n",
      "Requirement already satisfied: joblib>=0.11 in c:\\anaconda\\lib\\site-packages (from scikit-learn->lightgbm) (0.13.2)\n",
      "Installing collected packages: lightgbm\n",
      "Successfully installed lightgbm-2.3.1\n",
      "Collecting xgboost\n",
      "  Downloading https://files.pythonhosted.org/packages/68/38/fc6b5c3c69b3ed31ed316b83a7baf02dd3b70b58463cebe89737546cd57a/xgboost-1.1.0-py3-none-win_amd64.whl (37.7MB)\n",
      "Requirement already satisfied: scipy in c:\\anaconda\\lib\\site-packages (from xgboost) (1.2.1)\n",
      "Requirement already satisfied: numpy in c:\\anaconda\\lib\\site-packages (from xgboost) (1.16.4)\n",
      "Installing collected packages: xgboost\n",
      "Successfully installed xgboost-1.1.0\n"
     ]
    }
   ],
   "source": [
    "!pip install catboost\n",
    "!pip install lightgbm\n",
    "!pip install xgboost"
   ]
  },
  {
   "cell_type": "code",
   "execution_count": 3,
   "metadata": {},
   "outputs": [],
   "source": [
    "from sklearn.datasets import make_classification\n",
    "from matplotlib.colors import ListedColormap\n",
    "from sklearn.model_selection import train_test_split\n",
    "from sklearn.metrics import roc_auc_score\n",
    "\n",
    "cmap_light = ListedColormap(['#FFAAAA', '#AAFFAA', '#AAAAFF'])\n",
    "cmap_bold = ListedColormap(['#FF0000', '#00FF00', '#0000FF'])\n",
    "\n",
    "def plot_surface(X, y, clf):\n",
    "    h = 0.2\n",
    "    x_min, x_max = X[:, 0].min() - 1, X[:, 0].max() + 1\n",
    "    y_min, y_max = X[:, 1].min() - 1, X[:, 1].max() + 1\n",
    "    xx, yy = np.meshgrid(np.arange(x_min, x_max, h),\n",
    "                         np.arange(y_min, y_max, h))\n",
    "    Z = clf.predict(np.c_[xx.ravel(), yy.ravel()])\n",
    "\n",
    "    Z = Z.reshape(xx.shape)\n",
    "    plt.figure(figsize=(8, 8))\n",
    "    plt.pcolormesh(xx, yy, Z, cmap=cmap_light)\n",
    "\n",
    "    # Plot also the training points\n",
    "    plt.scatter(X[:, 0], X[:, 1], c=y, cmap=cmap_bold)\n",
    "    plt.xlim(xx.min(), xx.max())\n",
    "    plt.ylim(yy.min(), yy.max())\n",
    "\n",
    "X, y = make_classification(n_samples=500, n_features=2, n_informative=2,\n",
    "                           n_redundant=0, n_repeated=0,\n",
    "                           n_classes=2, n_clusters_per_class=2,\n",
    "                           flip_y=0.05, class_sep=0.8, random_state=241)\n",
    "\n",
    "X_train, X_test, y_train, y_test = train_test_split(X, y, test_size=0.3, random_state=241)"
   ]
  },
  {
   "cell_type": "markdown",
   "metadata": {},
   "source": [
    "## Catboost"
   ]
  },
  {
   "cell_type": "code",
   "execution_count": 4,
   "metadata": {},
   "outputs": [
    {
     "name": "stdout",
     "output_type": "stream",
     "text": [
      "0.919452347083926\n"
     ]
    },
    {
     "data": {
      "image/png": "[encoded data removed]",
      "text/plain": [
       "<Figure size 576x576 with 1 Axes>"
      ]
     },
     "metadata": {
      "needs_background": "light"
     },
     "output_type": "display_data"
    }
   ],
   "source": [
    "from catboost import CatBoostClassifier \n",
    "\n",
    "clf = CatBoostClassifier(iterations=300, logging_level='Silent')\n",
    "clf.fit(X_train, y_train)\n",
    "plot_surface(X_test, y_test, clf)\n",
    "\n",
    "print(roc_auc_score(y_test, clf.predict_proba(X_test)[:, 1]))"
   ]
  },
  {
   "cell_type": "code",
   "execution_count": 5,
   "metadata": {},
   "outputs": [
    {
     "data": {
      "image/png": "[encoded data removed]",
      "text/plain": [
       "<Figure size 576x360 with 1 Axes>"
      ]
     },
     "metadata": {
      "needs_background": "light"
     },
     "output_type": "display_data"
    }
   ],
   "source": [
    "n_trees = [1, 5, 10, 100, 200, 300, 400, 500, 600, 700]\n",
    "quals_train = []\n",
    "quals_test = []\n",
    "for n in n_trees:\n",
    "    clf = CatBoostClassifier(iterations=n, logging_level='Silent')\n",
    "    clf.fit(X_train, y_train)\n",
    "    q_train = roc_auc_score(y_train, clf.predict_proba(X_train)[:, 1])\n",
    "    q_test = roc_auc_score(y_test, clf.predict_proba(X_test)[:, 1])\n",
    "    quals_train.append(q_train)\n",
    "    quals_test.append(q_test)\n",
    "    \n",
    "plt.figure(figsize=(8, 5))\n",
    "plt.plot(n_trees, quals_train, marker='.', label='train')\n",
    "plt.plot(n_trees, quals_test, marker='.', label='test')\n",
    "plt.xlabel('Number of trees')\n",
    "plt.ylabel('AUC-ROC')\n",
    "plt.legend()\n",
    "\n",
    "plt.show()"
   ]
  },
  {
   "cell_type": "markdown",
   "metadata": {},
   "source": [
    "## LightGBM"
   ]
  },
  {
   "cell_type": "code",
   "execution_count": 6,
   "metadata": {},
   "outputs": [
    {
     "name": "stdout",
     "output_type": "stream",
     "text": [
      "0.8629089615931721\n"
     ]
    },
    {
     "data": {
      "image/png": "[encoded data removed]",
      "text/plain": [
       "<Figure size 576x576 with 1 Axes>"
      ]
     },
     "metadata": {
      "needs_background": "light"
     },
     "output_type": "display_data"
    }
   ],
   "source": [
    "from lightgbm import LGBMClassifier\n",
    "\n",
    "clf = LGBMClassifier(n_estimators=300)\n",
    "clf.fit(X_train, y_train)\n",
    "plot_surface(X_test, y_test, clf)\n",
    "\n",
    "print(roc_auc_score(y_test, clf.predict_proba(X_test)[:, 1]))"
   ]
  },
  {
   "cell_type": "code",
   "execution_count": 7,
   "metadata": {},
   "outputs": [
    {
     "data": {
      "image/png": "[encoded data removed]",
      "text/plain": [
       "<Figure size 576x360 with 1 Axes>"
      ]
     },
     "metadata": {
      "needs_background": "light"
     },
     "output_type": "display_data"
    }
   ],
   "source": [
    "n_trees = [1, 5, 10, 100, 200, 300, 400, 500, 600, 700]\n",
    "quals_train = []\n",
    "quals_test = []\n",
    "for n in n_trees:\n",
    "    clf = LGBMClassifier(n_estimators=n)\n",
    "    clf.fit(X_train, y_train)\n",
    "    q_train = roc_auc_score(y_train, clf.predict_proba(X_train)[:, 1])\n",
    "    q_test = roc_auc_score(y_test, clf.predict_proba(X_test)[:, 1])\n",
    "    quals_train.append(q_train)\n",
    "    quals_test.append(q_test)\n",
    "    \n",
    "plt.figure(figsize=(8, 5))\n",
    "plt.plot(n_trees, quals_train, marker='.', label='train')\n",
    "plt.plot(n_trees, quals_test, marker='.', label='test')\n",
    "plt.xlabel('Number of trees')\n",
    "plt.ylabel('AUC-ROC')\n",
    "plt.legend()\n",
    "\n",
    "plt.show()"
   ]
  },
  {
   "cell_type": "markdown",
   "metadata": {},
   "source": [
    "Теперь попробуем взять фиксированное количество деревьев, но будем менять их глубину."
   ]
  },
  {
   "cell_type": "code",
   "execution_count": 8,
   "metadata": {},
   "outputs": [
    {
     "data": {
      "image/png": "[encoded data removed]",
      "text/plain": [
       "<Figure size 576x360 with 1 Axes>"
      ]
     },
     "metadata": {
      "needs_background": "light"
     },
     "output_type": "display_data"
    }
   ],
   "source": [
    "depth = list(range(1, 30, 3))\n",
    "n_trees = 300\n",
    "quals_train = []\n",
    "quals_test = []\n",
    "for d in depth:\n",
    "    lgb = LGBMClassifier(n_estimators=n_trees, max_depth=d)\n",
    "    lgb.fit(X_train, y_train)\n",
    "    q_train = roc_auc_score(y_train, lgb.predict_proba(X_train)[:, 1])\n",
    "    q_test = roc_auc_score(y_test, lgb.predict_proba(X_test)[:, 1])\n",
    "    quals_train.append(q_train)\n",
    "    quals_test.append(q_test)\n",
    "    \n",
    "plt.figure(figsize=(8, 5))\n",
    "plt.plot(depth, quals_train, marker='.', label='train')\n",
    "plt.plot(depth, quals_test, marker='.', label='test')\n",
    "plt.xlabel('Depth of trees')\n",
    "plt.ylabel('AUC-ROC')\n",
    "plt.legend()\n",
    "\n",
    "plt.show()"
   ]
  },
  {
   "cell_type": "markdown",
   "metadata": {},
   "source": [
    "И сравним с Catboost:"
   ]
  },
  {
   "cell_type": "code",
   "execution_count": 9,
   "metadata": {},
   "outputs": [
    {
     "data": {
      "image/png": "[encoded data removed]",
      "text/plain": [
       "<Figure size 576x360 with 1 Axes>"
      ]
     },
     "metadata": {
      "needs_background": "light"
     },
     "output_type": "display_data"
    }
   ],
   "source": [
    "depth = list(range(1, 12, 2))\n",
    "n_trees = 300\n",
    "quals_train = []\n",
    "quals_test = []\n",
    "for d in depth:\n",
    "    clf = CatBoostClassifier(n_estimators=n_trees, max_depth=d, logging_level=\"Silent\")\n",
    "    clf.fit(X_train, y_train)\n",
    "    q_train = roc_auc_score(y_train, clf.predict_proba(X_train)[:, 1])\n",
    "    q_test = roc_auc_score(y_test, clf.predict_proba(X_test)[:, 1])\n",
    "    quals_train.append(q_train)\n",
    "    quals_test.append(q_test)\n",
    "    \n",
    "plt.figure(figsize=(8, 5))\n",
    "plt.plot(depth, quals_train, marker='.', label='train')\n",
    "plt.plot(depth, quals_test, marker='.', label='test')\n",
    "plt.xlabel('Depth of trees')\n",
    "plt.ylabel('AUC-ROC')\n",
    "plt.legend()\n",
    "\n",
    "plt.show()"
   ]
  },
  {
   "cell_type": "markdown",
   "metadata": {},
   "source": [
    "Теперь, когда у нас получились отличные модели, нужно их сохранить!"
   ]
  },
  {
   "cell_type": "code",
   "execution_count": 10,
   "metadata": {},
   "outputs": [],
   "source": [
    "lgb.booster_.save_model('lightgbm.txt')\n",
    "\n",
    "clf.save_model('catboost.cbm', format='cbm')"
   ]
  },
  {
   "cell_type": "markdown",
   "metadata": {},
   "source": [
    "И загрузим обратно, когда понадобится их применить"
   ]
  },
  {
   "cell_type": "code",
   "execution_count": 11,
   "metadata": {},
   "outputs": [],
   "source": [
    "lgb = LGBMClassifier(model_file='mode.txt')\n",
    "\n",
    "clf = clf.load_model('catboost.cbm')"
   ]
  },
  {
   "cell_type": "markdown",
   "metadata": {},
   "source": [
    "## Блендинг"
   ]
  },
  {
   "cell_type": "markdown",
   "metadata": {},
   "source": [
    "Блендинг представляет из себя \"мета-алгоритм\", предсказание которого строится как взвешенная сумма базовых алгоритмов. Рассмотрим простой пример блендинга бустинга и линейной регрессии."
   ]
  },
  {
   "cell_type": "code",
   "execution_count": 12,
   "metadata": {},
   "outputs": [],
   "source": [
    "from sklearn.datasets import load_boston\n",
    "\n",
    "data = load_boston()\n",
    "X = pd.DataFrame(data.data, columns=data.feature_names)\n",
    "y = data.target\n",
    "\n",
    "X_train, X_test, y_train, y_test = train_test_split(X, y, test_size=0.3, random_state=10)\n",
    "\n",
    "def rmse(y_true, y_pred):\n",
    "    error = (y_true - y_pred) ** 2\n",
    "    return np.sqrt(np.mean(error))"
   ]
  },
  {
   "cell_type": "code",
   "execution_count": 13,
   "metadata": {},
   "outputs": [
    {
     "name": "stdout",
     "output_type": "stream",
     "text": [
      "Train RMSE GB = 5.4431\n",
      "Test RMSE GB = 6.5456\n"
     ]
    }
   ],
   "source": [
    "from catboost import CatBoostRegressor\n",
    "\n",
    "cbm = CatBoostRegressor(iterations=100, max_depth=4, learning_rate=0.01, loss_function='RMSE', logging_level='Silent')\n",
    "cbm.fit(X_train, y_train)\n",
    "\n",
    "y_pred_cbm = cbm.predict(X_test)\n",
    "y_train_pred_cbm = cbm.predict(X_train)\n",
    "\n",
    "print(\"Train RMSE GB = %.4f\" % rmse(y_train, y_train_pred_cbm))\n",
    "print(\"Test RMSE GB = %.4f\" % rmse(y_test, y_pred_cbm))"
   ]
  },
  {
   "cell_type": "code",
   "execution_count": 14,
   "metadata": {},
   "outputs": [
    {
     "name": "stdout",
     "output_type": "stream",
     "text": [
      "Train RMSE LR = 4.4113\n",
      "Test RMSE LR = 5.4154\n"
     ]
    }
   ],
   "source": [
    "from sklearn.linear_model import LinearRegression\n",
    "from sklearn.preprocessing import StandardScaler\n",
    "\n",
    "scaler = StandardScaler()\n",
    "X_train_scaled = scaler.fit_transform(X_train)\n",
    "X_test_scaled = scaler.transform(X_test)\n",
    "\n",
    "lr = LinearRegression()\n",
    "lr.fit(X_train_scaled, y_train)\n",
    "y_pred_lr = lr.predict(X_test_scaled)\n",
    "y_train_pred_lr = lr.predict(X_train_scaled)\n",
    "\n",
    "print(\"Train RMSE LR = %.4f\" % rmse(y_train, y_train_pred_lr))\n",
    "print(\"Test RMSE LR = %.4f\" % rmse(y_test, y_pred_lr))"
   ]
  },
  {
   "cell_type": "markdown",
   "metadata": {},
   "source": [
    "Для простоты будем считать, что новый алгоритм $a(x)$ представим как\n",
    "$$\n",
    "    a(x)\n",
    "    =\n",
    "    \\sum_{n = 1}^{N}\n",
    "    w_n b_n(x),\n",
    "$$\n",
    "где $\\sum\\limits_{n=1}^N w_n =1$"
   ]
  },
  {
   "cell_type": "code",
   "execution_count": 15,
   "metadata": {},
   "outputs": [],
   "source": [
    "def select_weights(y_true, y_pred_1, y_pred_2):\n",
    "    grid = np.linspace(0, 1, 1000)\n",
    "    metric = []\n",
    "    for w_0 in grid:\n",
    "        w_1 = 1 - w_0\n",
    "        y_a = w_0 * y_pred_1 + w_1 * y_pred_2\n",
    "        metric.append([rmse(y_true, y_a), w_0, w_1])\n",
    "    return metric"
   ]
  },
  {
   "cell_type": "code",
   "execution_count": 16,
   "metadata": {},
   "outputs": [],
   "source": [
    "rmse_blending_train, w_0, w_1 = min(select_weights(y_train, y_train_pred_cbm, y_train_pred_lr), key=lambda x: x[0])"
   ]
  },
  {
   "cell_type": "code",
   "execution_count": 17,
   "metadata": {},
   "outputs": [
    {
     "data": {
      "text/plain": [
       "4.273424051954005"
      ]
     },
     "execution_count": 17,
     "metadata": {},
     "output_type": "execute_result"
    }
   ],
   "source": [
    "rmse_blending_train"
   ]
  },
  {
   "cell_type": "code",
   "execution_count": 18,
   "metadata": {},
   "outputs": [
    {
     "data": {
      "text/plain": [
       "5.237314717927904"
      ]
     },
     "execution_count": 18,
     "metadata": {},
     "output_type": "execute_result"
    }
   ],
   "source": [
    "rmse(y_test, y_pred_cbm * w_0 +  y_pred_lr * w_1)"
   ]
  },
  {
   "cell_type": "code",
   "execution_count": 19,
   "metadata": {},
   "outputs": [
    {
     "data": {
      "text/plain": [
       "4.315187170527423"
      ]
     },
     "execution_count": 19,
     "metadata": {},
     "output_type": "execute_result"
    }
   ],
   "source": [
    "from lightgbm import LGBMRegressor\n",
    "\n",
    "def stack_models(model, y_true, y_pred_1, y_pred_2):\n",
    "    sample = pd.DataFrame([y_pred_1, y_pred_2]).T\n",
    "    model.fit(sample, y_true)\n",
    "    return model\n",
    "\n",
    "lgb = LGBMRegressor(n_estimators=200, max_depth=3)\n",
    "lgb = stack_models(lgb, y_train, y_train_pred_cbm, y_train_pred_lr)\n",
    "rmse(y_test, lgb.predict(pd.DataFrame([y_pred_cbm, y_pred_lr]).T))"
   ]
  },
  {
   "cell_type": "markdown",
   "metadata": {},
   "source": [
    "В итоге получаем качество на тестовой выборке лучше, чем у каждого алгоритма в отдельности."
   ]
  },
  {
   "cell_type": "markdown",
   "metadata": {},
   "source": [
    "Полезные ссылки:\n",
    "\n",
    "* [Видео про стекинг](https://www.coursera.org/lecture/competitive-data-science/stacking-Qdtt6)\n",
    "* [Продвинутый вариант стекинга с использованием нейросетей](https://www.coursera.org/learn/competitive-data-science/lecture/s8RLi/stacknet)"
   ]
  },
  {
   "cell_type": "markdown",
   "metadata": {},
   "source": [
    "## Важность признаков\n",
    "\n",
    "В курсе мы подробно обсуждаем, как добиваться хорошего качества решения задачи: имея выборку $X, y$, построить алгоритм с наименьшей ошибкой. Однако заказчику часто важно понимать, как работает алгоритм, почему он делает такие предсказания. Обсудим несколько мотиваций.\n",
    "\t\n",
    "#### Доверие алгоритму\n",
    "Например, в банках на основе решений, принятых алгоритмом, выполняются финансовые операции, и менеджер, ответственный за эти операции, будет готов использовать алгоритм, только если он понимает, что его решения обоснованы. По этой причине в банках очень часто используют простые линейные алгоритмы. Другой пример из области медицины: поскольку цена ошибки может быть очень велика, врачи готовы использовать только интерпретируемые алгоритмы.\n",
    "\t\n",
    "#### Отсутствие дискриминации (fairness) \n",
    "Вновь пример с банком: алгоритм кредитного скоринга не должен учитывать расовую принадлежность (racial bias) заемщика или его пол (gender bias). Между тем, такие зависимости часто могут присутствовать в датасете (исторические данные), на котором обучался алгоритм.  Еще один пример: известно, что нейросетевые векторы слов содержат gender bias. Если эти вектора использовались при построении системы поиска по резюме для рекрутера, то, например, по запросу `technical skill` он может видеть женские резюме в конце ранжированного списка.\n",
    "\t\n",
    "#### Учет контекста\n",
    "Данные, на которых обучается алгоритм, не отображают всю предметную область. Интерпретация алгоритма позволит оценить, насколько найденные зависимости связаны с реальной жизнью. Если предсказания интерпретируемы, это также говорит о высокой обобщающей способности алгоритма. \n",
    "\n",
    "Теперь обсудим несколько вариантов, как можно оценивать важность признаков."
   ]
  },
  {
   "cell_type": "markdown",
   "metadata": {},
   "source": [
    "### Веса линейной модели\n",
    "\n",
    "Самый простой способ, который уже был рассмотрен на семинаре про линейные модели: после построения модели каждому признаку будет соответствовать свой вес - если признаки масштабированы, то чем он больше по модулю, тем важнее признак, а знак будет говорить о положительном или отрицательном влиянии на величину целевой переменной."
   ]
  },
  {
   "cell_type": "markdown",
   "metadata": {},
   "source": [
    "### FSTR (Feature strength)\n",
    "\n",
    "[Fstr](https://catboost.ai/docs/concepts/fstr.html) говорит, что важность признака &mdash; это то, насколько в среднем меняется ответ модели при изменении значения данного признака (изменении значения разбиения).\n",
    "\n",
    "Рассчитать его можно так:\n",
    "\n",
    "$$feature\\_importance_{F} = \\sum_{tree, leaves_F} (v_1 - avr)^2\\cdot c_1 +(v_2 - avr)^2\\cdot c_2 = \\left(v_1 - v_2\\right)^2\\frac{c_1c_2}{c_1 + c_2}\\\\\n",
    "\\qquad avr = \\frac{v_1 \\cdot c_1 + v_2 \\cdot c_2}{c_1 + c_2}.$$\n",
    "\n",
    "Мы сравниваем листы, отличающиеся значением сплита в узле на пути к ним: если условие сплита выполняется, объект попадает в левое поддерево, иначе &mdash; в правое. \n",
    "\n",
    "$c_1, c_2 - $  число объектов обучающего датасета, попавших в левое и правое поддерево соответственно, либо суммарный вес этих объектов, если используются веса; $v1, v2 -$значение модели в левом и правом поддереве (например, среднее)\n",
    "\n",
    "\n",
    "Далее значения $feature\\_importance$ нормируются, и получаются величины, которые суммируются в 100."
   ]
  },
  {
   "cell_type": "code",
   "execution_count": 20,
   "metadata": {},
   "outputs": [
    {
     "name": "stdout",
     "output_type": "stream",
     "text": [
      "LSTAT 44.57842395824728\n",
      "RM 36.850858175652654\n",
      "NOX 3.473133901367306\n",
      "PTRATIO 3.3887271637105134\n",
      "DIS 2.23667053074621\n",
      "INDUS 1.9016830079470277\n",
      "TAX 1.7781003730136429\n",
      "CRIM 1.5774334311195715\n",
      "AGE 1.4213295189456003\n",
      "RAD 1.3943420902109485\n",
      "B 0.6521915521536685\n",
      "CHAS 0.6057385942178969\n",
      "ZN 0.14136770266764145\n"
     ]
    }
   ],
   "source": [
    "for val, name in sorted(zip(cbm.feature_importances_, data.feature_names))[::-1]:\n",
    "    print(name, val)"
   ]
  },
  {
   "cell_type": "code",
   "execution_count": 21,
   "metadata": {},
   "outputs": [
    {
     "data": {
      "text/plain": [
       "99.99999999999996"
      ]
     },
     "execution_count": 21,
     "metadata": {},
     "output_type": "execute_result"
    }
   ],
   "source": [
    "sum(cbm.feature_importances_)"
   ]
  },
  {
   "cell_type": "markdown",
   "metadata": {},
   "source": [
    "### Out-of-bag\n",
    "\n",
    "В случайном лесе за счет обучения на подвыборках можно использовать out-of-bag оценки - ошибка композиции $a(x) = \\sum_{n=1}^N b_n(x)$, построенной с помощью бэггинга с базовыми алгоритмами $b_i(x)$, вычисляется по формуле (подробнее см. конспект лекции 8):\n",
    "     $$\n",
    "     \\text{OOB} = \\sum_{i=1}^\\ell L\\biggl(y_i, \\frac 1 {\\sum_{n=1}^N [x_i \\notin X_n]} \\sum_{n=1}^N [x_i \\notin X_n] b_n(x_i)\\biggr)\n",
    "      $$     \n",
    "Можно показать, что по мере увеличения числа деревьев \n",
    "данная оценка стремится к leave-one-out-оценке,\n",
    "но при этом существенно проще для вычисления.\n",
    "     \n",
    "Итоговый алгоритм подсчета важностей для случайного леса выглядит так:\n",
    "* Вычислить OOB для случайного леса, обученного по исходной обучающей выборке\n",
    "*  Для каждого признака $j$:\n",
    "\n",
    "    * Перемешать значения признака по всем объектам обучающей выборки &mdash; мы хотим сделать признак неинформативным\n",
    "    * Вычислить OOB$_j$ случайного леса, обученного по измененной обучающей выборке\n",
    "    * Оценить важности: $R_j = \\max(0, \\text{OOB}-\\text{OOB}_j)$"
   ]
  },
  {
   "cell_type": "markdown",
   "metadata": {},
   "source": [
    "Приведем простейший пример, как можно получить такую оценку в sklearn-реализации RandomForest"
   ]
  },
  {
   "cell_type": "code",
   "execution_count": 22,
   "metadata": {},
   "outputs": [
    {
     "data": {
      "text/plain": [
       "0.837337465715185"
      ]
     },
     "execution_count": 22,
     "metadata": {},
     "output_type": "execute_result"
    }
   ],
   "source": [
    "from sklearn.ensemble import RandomForestRegressor\n",
    "\n",
    "clf = RandomForestRegressor(n_estimators=100, oob_score=True)\n",
    "clf.fit(X_train, y_train)\n",
    "\n",
    "clf.oob_score_"
   ]
  },
  {
   "cell_type": "markdown",
   "metadata": {},
   "source": [
    "## Интерпретация алгоритмов\n",
    "\n",
    "Отдельным направлением исследований является анализ уже построенных алгоритмов. Разберем популярный метод &mdash; [LIME](https://christophm.github.io/interpretable-ml-book/lime.html). \n",
    "   \n",
    "   Предположим, что мы обучили алгоритм $a$ на выборке {$X, y$}, и хотим интерпретировать его предсказания. Алгоритм LIME выполняет локальную интерпретацию, то есть объясняет предсказания для конкретного объекта. Основная идея состоит в локальном приближении разделяющей поверхности алгоритма другим, более простым алгоритмом $b$ (например, линейным). Итак, чтобы объяснить предсказания $a(x)$ на конкретном объекте $x$:\n",
    "   \n",
    "* Сгенерировать выборку точек $x_1, \\dots, x_m$ около объекта $x$.\n",
    "* Обучить интерпретируемый алгоритм $b$ на выборке $\\{(x_1, a(x_1)), \\dots, (x_m, a(x_m))\\}$.\n",
    "* Интерпретировать алгоритм $b$.\n",
    "\n",
    "   Если мы приближаем разделяющую поверхность линейной функцией $b$, то по обученным весам можно сказать, какой вклад вносит каждый признак в предсказания в окрестности точки $x$."
   ]
  },
  {
   "cell_type": "markdown",
   "metadata": {},
   "source": [
    "## XGBoost"
   ]
  },
  {
   "cell_type": "code",
   "execution_count": 23,
   "metadata": {},
   "outputs": [],
   "source": [
    "# based on https://www.analyticsvidhya.com/blog/2016/03/complete-guide-parameter-tuning-xgboost-with-codes-python/\n",
    "\n",
    "import pandas as pd\n",
    "import numpy as np\n",
    "import xgboost as xgb\n",
    "from xgboost.sklearn import XGBClassifier\n",
    "from sklearn import metrics   #Additional sklearn functions\n",
    "from sklearn.model_selection import learning_curve, GridSearchCV  #Perforing grid search\n",
    "from sklearn.model_selection import cross_validate\n",
    "from sklearn.model_selection import train_test_split\n",
    "import matplotlib.pylab as plt\n",
    "%matplotlib inline\n",
    "from matplotlib.pylab import rcParams\n",
    "from sklearn.datasets import load_breast_cancer, fetch_lfw_pairs, make_classification\n",
    "rcParams['figure.figsize'] = 12, 4"
   ]
  },
  {
   "cell_type": "code",
   "execution_count": 24,
   "metadata": {},
   "outputs": [],
   "source": [
    "titanic = pd.read_csv('titanic.csv')"
   ]
  },
  {
   "cell_type": "code",
   "execution_count": 25,
   "metadata": {},
   "outputs": [],
   "source": [
    "X = titanic[['Pclass', 'Age', 'SibSp', 'Fare']]\n",
    "y = titanic.Survived.values"
   ]
  },
  {
   "cell_type": "code",
   "execution_count": 26,
   "metadata": {},
   "outputs": [],
   "source": [
    "X_train, X_test, y_train, y_test = train_test_split(X, y, test_size=0.2, random_state=42)"
   ]
  },
  {
   "cell_type": "code",
   "execution_count": 27,
   "metadata": {},
   "outputs": [
    {
     "data": {
      "text/plain": [
       "((712, 4), (712,), (179, 4), (179,))"
      ]
     },
     "execution_count": 27,
     "metadata": {},
     "output_type": "execute_result"
    }
   ],
   "source": [
    "X_train.shape, y_train.shape, X_test.shape, y_test.shape"
   ]
  },
  {
   "cell_type": "code",
   "execution_count": 28,
   "metadata": {},
   "outputs": [],
   "source": [
    "def modelfit(alg, dtrain, y, X_test=None, y_test=None, test=True, useTrainCV=True, cv_folds=5, early_stopping_rounds=50):\n",
    "    \n",
    "    if useTrainCV:\n",
    "        xgb_param = alg.get_xgb_params()\n",
    "        xgtrain = xgb.DMatrix(dtrain, label=y)\n",
    "        cvresult = xgb.cv(xgb_param, xgtrain, num_boost_round=alg.get_params()['n_estimators'], nfold=cv_folds,\n",
    "            metrics='auc', early_stopping_rounds=early_stopping_rounds, verbose_eval=False)\n",
    "        alg.set_params(n_estimators=cvresult.shape[0])\n",
    "    \n",
    "    #Fit the algorithm on the data\n",
    "    alg.fit(dtrain, y, eval_metric='auc')\n",
    "        \n",
    "    #Predict training set:\n",
    "    dtrain_predictions = alg.predict(dtrain)\n",
    "    dtrain_predprob = alg.predict_proba(dtrain)[:,1]\n",
    "        \n",
    "    #Print model report:\n",
    "    print (\"\\nModel Report\")\n",
    "    print (\"Accuracy (Train): %.4g\" % metrics.accuracy_score(y, dtrain_predictions))\n",
    "    print (\"AUC Score (Train): %f\" % metrics.roc_auc_score(y, dtrain_predprob))\n",
    "    if test:\n",
    "        dtest_predictions = alg.predict(X_test)\n",
    "        dtest_predprob = alg.predict_proba(X_test)[:,1]\n",
    "        print (\"Accuracy (Test): %.4g\" % metrics.accuracy_score(y_test, dtest_predictions))\n",
    "        print (\"AUC Score (Test): %f\" % metrics.roc_auc_score(y_test, dtest_predprob))\n",
    "    # return alg              \n",
    "    feat_imp = pd.Series(alg.get_booster().get_fscore()).sort_values(ascending=False)\n",
    "    feat_imp.plot(kind='bar', title='Feature Importances')\n",
    "    plt.ylabel('Feature Importance Score')"
   ]
  },
  {
   "cell_type": "code",
   "execution_count": 29,
   "metadata": {},
   "outputs": [],
   "source": [
    "#Choose all predictors except target & IDcols\n",
    "# predictors = [x for x in X.columns]\n",
    "xgb1 = XGBClassifier(\n",
    " learning_rate =0.1,\n",
    " n_estimators=1000,\n",
    " max_depth=5,\n",
    " min_child_weight=1,\n",
    " gamma=0,\n",
    " subsample=0.8,\n",
    " colsample_bytree=0.8,\n",
    " objective= 'binary:logistic',\n",
    " nthread=4,\n",
    " scale_pos_weight=1,\n",
    " booster='gbtree',\n",
    " seed=27)"
   ]
  },
  {
   "cell_type": "code",
   "execution_count": 30,
   "metadata": {},
   "outputs": [
    {
     "name": "stdout",
     "output_type": "stream",
     "text": [
      "\n",
      "Model Report\n",
      "Accuracy (Train): 0.7683\n",
      "AUC Score (Train): 0.860549\n",
      "Accuracy (Test): 0.7542\n",
      "AUC Score (Test): 0.828121\n"
     ]
    },
    {
     "data": {
      "image/png": "[encoded data removed]",
      "text/plain": [
       "<Figure size 864x288 with 1 Axes>"
      ]
     },
     "metadata": {
      "needs_background": "light"
     },
     "output_type": "display_data"
    }
   ],
   "source": [
    "modelfit(xgb1, X_train, y_train, X_test, y_test)"
   ]
  },
  {
   "cell_type": "code",
   "execution_count": 31,
   "metadata": {},
   "outputs": [
    {
     "data": {
      "text/plain": [
       "({'mean_fit_time': array([0.18317962, 0.16056046, 0.16796908, 0.21231685, 0.20918303,\n",
       "         0.2022604 , 0.2668674 , 0.24509854, 0.23548441, 0.32928619,\n",
       "         0.30140386, 0.22639384]),\n",
       "  'std_fit_time': array([0.01373569, 0.00440577, 0.0091231 , 0.00318459, 0.00243955,\n",
       "         0.00280538, 0.00513693, 0.00760247, 0.01030226, 0.02594715,\n",
       "         0.01689446, 0.03491538]),\n",
       "  'mean_score_time': array([0.00760646, 0.00569167, 0.00531669, 0.00531311, 0.00571442,\n",
       "         0.00520973, 0.00512576, 0.00540028, 0.00478644, 0.00598049,\n",
       "         0.00548787, 0.00518584]),\n",
       "  'std_score_time': array([0.00079801, 0.00074517, 0.00041528, 0.00040811, 0.00076616,\n",
       "         0.00098042, 0.00018963, 0.0007903 , 0.00039861, 0.00089507,\n",
       "         0.00044599, 0.00039899]),\n",
       "  'param_max_depth': masked_array(data=[3, 3, 3, 5, 5, 5, 7, 7, 7, 9, 9, 9],\n",
       "               mask=[False, False, False, False, False, False, False, False,\n",
       "                     False, False, False, False],\n",
       "         fill_value='?',\n",
       "              dtype=object),\n",
       "  'param_min_child_weight': masked_array(data=[1, 3, 5, 1, 3, 5, 1, 3, 5, 1, 3, 5],\n",
       "               mask=[False, False, False, False, False, False, False, False,\n",
       "                     False, False, False, False],\n",
       "         fill_value='?',\n",
       "              dtype=object),\n",
       "  'params': [{'max_depth': 3, 'min_child_weight': 1},\n",
       "   {'max_depth': 3, 'min_child_weight': 3},\n",
       "   {'max_depth': 3, 'min_child_weight': 5},\n",
       "   {'max_depth': 5, 'min_child_weight': 1},\n",
       "   {'max_depth': 5, 'min_child_weight': 3},\n",
       "   {'max_depth': 5, 'min_child_weight': 5},\n",
       "   {'max_depth': 7, 'min_child_weight': 1},\n",
       "   {'max_depth': 7, 'min_child_weight': 3},\n",
       "   {'max_depth': 7, 'min_child_weight': 5},\n",
       "   {'max_depth': 9, 'min_child_weight': 1},\n",
       "   {'max_depth': 9, 'min_child_weight': 3},\n",
       "   {'max_depth': 9, 'min_child_weight': 5}],\n",
       "  'split0_test_score': array([0.69465252, 0.6982938 , 0.69652518, 0.68955472, 0.69506866,\n",
       "         0.69881398, 0.69766958, 0.69184353, 0.69860591, 0.70079068,\n",
       "         0.69413233, 0.69798169]),\n",
       "  'split1_test_score': array([0.72679983, 0.72315855, 0.73481065, 0.71702039, 0.70932168,\n",
       "         0.72700791, 0.71348315, 0.72138993, 0.72003745, 0.70932168,\n",
       "         0.7173325 , 0.7235747 ]),\n",
       "  'split2_test_score': array([0.75967541, 0.73657928, 0.75801082, 0.75676238, 0.74427799,\n",
       "         0.74615065, 0.76217228, 0.74906367, 0.74906367, 0.76529338,\n",
       "         0.75759467, 0.7488556 ]),\n",
       "  'split3_test_score': array([0.70468518, 0.6739453 , 0.68952724, 0.71994912, 0.68793725,\n",
       "         0.69790121, 0.71931312, 0.69620522, 0.7000212 , 0.70786517,\n",
       "         0.69853721, 0.7004452 ]),\n",
       "  'split4_test_score': array([0.7474271 , 0.75664666, 0.74699828, 0.74592624, 0.75536021,\n",
       "         0.74935678, 0.74528302, 0.739494  , 0.75085763, 0.74013722,\n",
       "         0.73520583, 0.74549743]),\n",
       "  'mean_test_score': array([0.72664801, 0.71772472, 0.72517444, 0.72584257, 0.71839316,\n",
       "         0.7238461 , 0.72758423, 0.71959927, 0.72371717, 0.72468163,\n",
       "         0.72056051, 0.72327092]),\n",
       "  'std_test_score': array([0.0246117 , 0.02896251, 0.02734545, 0.02361677, 0.02679729,\n",
       "         0.02217218, 0.02311588, 0.02273684, 0.02273616, 0.02440364,\n",
       "         0.02357927, 0.02149067]),\n",
       "  'rank_test_score': array([ 2, 12,  4,  3, 11,  6,  1, 10,  7,  5,  9,  8])},\n",
       " {'max_depth': 7, 'min_child_weight': 1},\n",
       " 0.7275842304038191)"
      ]
     },
     "execution_count": 31,
     "metadata": {},
     "output_type": "execute_result"
    }
   ],
   "source": [
    "param_test1 = {\n",
    " 'max_depth':range(3,10,2),\n",
    " 'min_child_weight':range(1,6,2)\n",
    "}\n",
    "\n",
    "gsearch1 = GridSearchCV(estimator = XGBClassifier( learning_rate =0.1, n_estimators=140, max_depth=5,\n",
    " min_child_weight=1, gamma=0, subsample=0.8, colsample_bytree=0.8,\n",
    " objective= 'binary:logistic', nthread=4, scale_pos_weight=1, seed=27), \n",
    " param_grid = param_test1, scoring='roc_auc',n_jobs=4,iid=False, cv=5)\n",
    "gsearch1.fit(X_train, y_train)\n",
    "gsearch1.cv_results_, gsearch1.best_params_, gsearch1.best_score_"
   ]
  },
  {
   "cell_type": "code",
   "execution_count": 32,
   "metadata": {},
   "outputs": [
    {
     "data": {
      "text/plain": [
       "({'mean_fit_time': array([0.307903  , 0.34804988, 0.24774818, 0.27143078, 0.32906008,\n",
       "         0.30152125, 0.31301122, 0.3615037 , 0.2497447 ]),\n",
       "  'std_fit_time': array([0.05589204, 0.03325847, 0.01809807, 0.00695252, 0.02735876,\n",
       "         0.01964714, 0.02643524, 0.018745  , 0.04076594]),\n",
       "  'mean_score_time': array([0.00757985, 0.0075798 , 0.00559859, 0.0065135 , 0.00738034,\n",
       "         0.0071806 , 0.00618329, 0.0053925 , 0.00558519]),\n",
       "  'std_score_time': array([0.00079765, 0.00149341, 0.00079576, 0.00136103, 0.00149243,\n",
       "         0.00146547, 0.00203413, 0.00049753, 0.00048842]),\n",
       "  'param_max_depth': masked_array(data=[8, 8, 8, 9, 9, 9, 10, 10, 10],\n",
       "               mask=[False, False, False, False, False, False, False, False,\n",
       "                     False],\n",
       "         fill_value='?',\n",
       "              dtype=object),\n",
       "  'param_min_child_weight': masked_array(data=[4, 5, 6, 4, 5, 6, 4, 5, 6],\n",
       "               mask=[False, False, False, False, False, False, False, False,\n",
       "                     False],\n",
       "         fill_value='?',\n",
       "              dtype=object),\n",
       "  'params': [{'max_depth': 8, 'min_child_weight': 4},\n",
       "   {'max_depth': 8, 'min_child_weight': 5},\n",
       "   {'max_depth': 8, 'min_child_weight': 6},\n",
       "   {'max_depth': 9, 'min_child_weight': 4},\n",
       "   {'max_depth': 9, 'min_child_weight': 5},\n",
       "   {'max_depth': 9, 'min_child_weight': 6},\n",
       "   {'max_depth': 10, 'min_child_weight': 4},\n",
       "   {'max_depth': 10, 'min_child_weight': 5},\n",
       "   {'max_depth': 10, 'min_child_weight': 6}],\n",
       "  'split0_test_score': array([0.69246775, 0.69798169, 0.69923013, 0.69007491, 0.69798169,\n",
       "         0.70110279, 0.69309197, 0.69798169, 0.70110279]),\n",
       "  'split1_test_score': array([0.7142114 , 0.72315855, 0.74032459, 0.7119226 , 0.7235747 ,\n",
       "         0.74032459, 0.71004994, 0.72877653, 0.74032459]),\n",
       "  'split2_test_score': array([0.75509779, 0.73866001, 0.75343321, 0.75322514, 0.7488556 ,\n",
       "         0.75260092, 0.75156055, 0.75322514, 0.75260092]),\n",
       "  'split3_test_score': array([0.69366123, 0.70150519, 0.70722917, 0.70468518, 0.7004452 ,\n",
       "         0.70256519, 0.70638117, 0.70659317, 0.70256519]),\n",
       "  'split4_test_score': array([0.74528302, 0.75      , 0.74903516, 0.75321612, 0.74549743,\n",
       "         0.75332333, 0.74828473, 0.74978559, 0.75332333]),\n",
       "  'mean_test_score': array([0.72014424, 0.72226109, 0.72985045, 0.72262479, 0.72327092,\n",
       "         0.72998336, 0.72187367, 0.72727242, 0.72998336]),\n",
       "  'std_test_score': array([0.02590848, 0.02029519, 0.02228557, 0.02595408, 0.02149067,\n",
       "         0.02344821, 0.02360957, 0.02221813, 0.02344821]),\n",
       "  'rank_test_score': array([9, 7, 3, 6, 5, 1, 8, 4, 1])},\n",
       " {'max_depth': 9, 'min_child_weight': 6},\n",
       " 0.7299833630631807)"
      ]
     },
     "execution_count": 32,
     "metadata": {},
     "output_type": "execute_result"
    }
   ],
   "source": [
    "param_test2 = {\n",
    " 'max_depth':[8,9,10],\n",
    " 'min_child_weight':[4, 5, 6]\n",
    "}\n",
    "gsearch2 = GridSearchCV(estimator = XGBClassifier( learning_rate=0.1, n_estimators=140, max_depth=5,\n",
    " min_child_weight=2, gamma=0, subsample=0.8, colsample_bytree=0.8,\n",
    " objective= 'binary:logistic', nthread=4, scale_pos_weight=1,seed=27), \n",
    " param_grid = param_test2, scoring='roc_auc',n_jobs=4,iid=False, cv=5)\n",
    "gsearch2.fit(X_train, y_train)\n",
    "gsearch2.cv_results_, gsearch2.best_params_, gsearch2.best_score_"
   ]
  },
  {
   "cell_type": "code",
   "execution_count": 33,
   "metadata": {},
   "outputs": [
    {
     "data": {
      "text/plain": [
       "({'mean_fit_time': array([0.249931  , 0.23819494, 0.22511435, 0.21953158, 0.19209313]),\n",
       "  'std_fit_time': array([0.00360175, 0.00579196, 0.00643353, 0.00474022, 0.02691424]),\n",
       "  'mean_score_time': array([0.00718174, 0.00738077, 0.00708904, 0.00558233, 0.00498652]),\n",
       "  'std_score_time': array([1.71724755e-03, 1.35302286e-03, 1.98344899e-03, 7.93519370e-04,\n",
       "         3.98950589e-07]),\n",
       "  'param_gamma': masked_array(data=[0.0, 0.1, 0.2, 0.3, 0.4],\n",
       "               mask=[False, False, False, False, False],\n",
       "         fill_value='?',\n",
       "              dtype=object),\n",
       "  'params': [{'gamma': 0.0},\n",
       "   {'gamma': 0.1},\n",
       "   {'gamma': 0.2},\n",
       "   {'gamma': 0.3},\n",
       "   {'gamma': 0.4}],\n",
       "  'split0_test_score': array([0.70110279, 0.69049105, 0.69434041, 0.69621307, 0.69267582]),\n",
       "  'split1_test_score': array([0.74032459, 0.7406367 , 0.74115689, 0.74042863, 0.7488556 ]),\n",
       "  'split2_test_score': array([0.75260092, 0.75925926, 0.75821889, 0.76009155, 0.74656679]),\n",
       "  'split3_test_score': array([0.70256519, 0.70934916, 0.70468518, 0.70934916, 0.70341319]),\n",
       "  'split4_test_score': array([0.75332333, 0.7526801 , 0.76211407, 0.75289451, 0.75653945]),\n",
       "  'mean_test_score': array([0.72998336, 0.73048326, 0.73210309, 0.73179538, 0.72961017]),\n",
       "  'std_test_score': array([0.02344821, 0.02634341, 0.02772157, 0.02486087, 0.02620507]),\n",
       "  'rank_test_score': array([4, 3, 1, 2, 5])},\n",
       " {'gamma': 0.2},\n",
       " 0.7321030869075176)"
      ]
     },
     "execution_count": 33,
     "metadata": {},
     "output_type": "execute_result"
    }
   ],
   "source": [
    "param_test3 = {\n",
    " 'gamma':[i/10.0 for i in range(0,5)]\n",
    "}\n",
    "gsearch3 = GridSearchCV(estimator = XGBClassifier( learning_rate =0.1, n_estimators=140, max_depth=9,\n",
    " min_child_weight=6, gamma=0, subsample=0.8, colsample_bytree=0.8,\n",
    " objective= 'binary:logistic', nthread=4, scale_pos_weight=1,seed=27), \n",
    " param_grid = param_test3, scoring='roc_auc',n_jobs=4,iid=False, cv=5)\n",
    "gsearch3.fit(X_train, y_train)\n",
    "gsearch3.cv_results_, gsearch3.best_params_, gsearch3.best_score_"
   ]
  },
  {
   "cell_type": "code",
   "execution_count": 34,
   "metadata": {},
   "outputs": [
    {
     "name": "stdout",
     "output_type": "stream",
     "text": [
      "\n",
      "Model Report\n",
      "Accuracy (Train): 0.7992\n",
      "AUC Score (Train): 0.885610\n",
      "Accuracy (Test): 0.743\n",
      "AUC Score (Test): 0.814414\n"
     ]
    },
    {
     "data": {
      "image/png": "[encoded data removed]",
      "text/plain": [
       "<Figure size 864x288 with 1 Axes>"
      ]
     },
     "metadata": {
      "needs_background": "light"
     },
     "output_type": "display_data"
    }
   ],
   "source": [
    "xgb2 = XGBClassifier(\n",
    " learning_rate =0.1,\n",
    " n_estimators=1000,\n",
    " max_depth=9,\n",
    " min_child_weight=6,\n",
    " gamma=0,\n",
    " subsample=0.8,\n",
    " colsample_bytree=0.8,\n",
    " objective= 'binary:logistic',\n",
    " nthread=4,\n",
    " scale_pos_weight=1,\n",
    " booster='gbtree',\n",
    " seed=27)\n",
    "modelfit(xgb2, X_train, y_train, X_test, y_test)"
   ]
  },
  {
   "cell_type": "code",
   "execution_count": 35,
   "metadata": {},
   "outputs": [
    {
     "data": {
      "text/plain": [
       "({'mean_fit_time': array([0.21233482, 0.22849751, 0.23966742, 0.25968485, 0.2342567 ,\n",
       "         0.2251555 , 0.23696604, 0.24376493, 0.23577752, 0.25223246,\n",
       "         0.34148626, 0.30179243, 0.25950499, 0.25272346, 0.29620714,\n",
       "         0.27426519]),\n",
       "  'std_fit_time': array([0.00608918, 0.0056285 , 0.00959508, 0.00289798, 0.00593574,\n",
       "         0.0069852 , 0.00354619, 0.00329796, 0.00310082, 0.00339207,\n",
       "         0.06923406, 0.05276925, 0.01257483, 0.00299794, 0.02836307,\n",
       "         0.03688979]),\n",
       "  'mean_score_time': array([0.00658159, 0.00578485, 0.00508871, 0.00520658, 0.00609975,\n",
       "         0.00578399, 0.00548906, 0.00478649, 0.00498676, 0.0047873 ,\n",
       "         0.00498571, 0.00498619, 0.00538602, 0.00498595, 0.00498652,\n",
       "         0.00558462]),\n",
       "  'std_score_time': array([1.49281470e-03, 7.46187409e-04, 4.86269047e-04, 4.05613618e-04,\n",
       "         1.01486909e-03, 1.16298203e-03, 4.46520316e-04, 3.98159455e-04,\n",
       "         3.98950589e-07, 3.98564663e-04, 1.32831462e-06, 7.47889859e-07,\n",
       "         7.98630777e-04, 4.67203091e-07, 6.30751210e-04, 7.98237660e-04]),\n",
       "  'param_colsample_bytree': masked_array(data=[0.6, 0.6, 0.6, 0.6, 0.7, 0.7, 0.7, 0.7, 0.8, 0.8, 0.8,\n",
       "                     0.8, 0.9, 0.9, 0.9, 0.9],\n",
       "               mask=[False, False, False, False, False, False, False, False,\n",
       "                     False, False, False, False, False, False, False, False],\n",
       "         fill_value='?',\n",
       "              dtype=object),\n",
       "  'param_subsample': masked_array(data=[0.6, 0.7, 0.8, 0.9, 0.6, 0.7, 0.8, 0.9, 0.6, 0.7, 0.8,\n",
       "                     0.9, 0.6, 0.7, 0.8, 0.9],\n",
       "               mask=[False, False, False, False, False, False, False, False,\n",
       "                     False, False, False, False, False, False, False, False],\n",
       "         fill_value='?',\n",
       "              dtype=object),\n",
       "  'params': [{'colsample_bytree': 0.6, 'subsample': 0.6},\n",
       "   {'colsample_bytree': 0.6, 'subsample': 0.7},\n",
       "   {'colsample_bytree': 0.6, 'subsample': 0.8},\n",
       "   {'colsample_bytree': 0.6, 'subsample': 0.9},\n",
       "   {'colsample_bytree': 0.7, 'subsample': 0.6},\n",
       "   {'colsample_bytree': 0.7, 'subsample': 0.7},\n",
       "   {'colsample_bytree': 0.7, 'subsample': 0.8},\n",
       "   {'colsample_bytree': 0.7, 'subsample': 0.9},\n",
       "   {'colsample_bytree': 0.8, 'subsample': 0.6},\n",
       "   {'colsample_bytree': 0.8, 'subsample': 0.7},\n",
       "   {'colsample_bytree': 0.8, 'subsample': 0.8},\n",
       "   {'colsample_bytree': 0.8, 'subsample': 0.9},\n",
       "   {'colsample_bytree': 0.9, 'subsample': 0.6},\n",
       "   {'colsample_bytree': 0.9, 'subsample': 0.7},\n",
       "   {'colsample_bytree': 0.9, 'subsample': 0.8},\n",
       "   {'colsample_bytree': 0.9, 'subsample': 0.9}],\n",
       "  'split0_test_score': array([0.70016646, 0.7025593 , 0.69382022, 0.69017894, 0.70016646,\n",
       "         0.7025593 , 0.69382022, 0.69017894, 0.70505618, 0.69454848,\n",
       "         0.70120682, 0.69777362, 0.70505618, 0.69454848, 0.70120682,\n",
       "         0.69777362]),\n",
       "  'split1_test_score': array([0.73678735, 0.73782772, 0.72908864, 0.72659176, 0.73678735,\n",
       "         0.73782772, 0.72908864, 0.72659176, 0.7278402 , 0.73262588,\n",
       "         0.73179359, 0.71816479, 0.7278402 , 0.73262588, 0.73179359,\n",
       "         0.71816479]),\n",
       "  'split2_test_score': array([0.78256346, 0.77049521, 0.76695797, 0.76779026, 0.78256346,\n",
       "         0.77049521, 0.76695797, 0.76779026, 0.77340824, 0.76258843,\n",
       "         0.76154806, 0.75759467, 0.77340824, 0.76258843, 0.76154806,\n",
       "         0.75759467]),\n",
       "  'split3_test_score': array([0.70171719, 0.70235319, 0.70659317, 0.69090524, 0.70171719,\n",
       "         0.70235319, 0.70659317, 0.69090524, 0.70245919, 0.70606318,\n",
       "         0.70341319, 0.7002332 , 0.70245919, 0.70606318, 0.70341319,\n",
       "         0.7002332 ]),\n",
       "  'split4_test_score': array([0.72266295, 0.73102487, 0.73295455, 0.73627787, 0.72266295,\n",
       "         0.73102487, 0.73295455, 0.73627787, 0.73295455, 0.74646226,\n",
       "         0.74410377, 0.73391938, 0.73295455, 0.74646226, 0.74410377,\n",
       "         0.73391938]),\n",
       "  'mean_test_score': array([0.72877948, 0.72885206, 0.72588291, 0.72234881, 0.72877948,\n",
       "         0.72885206, 0.72588291, 0.72234881, 0.72834367, 0.72845765,\n",
       "         0.72841309, 0.72153713, 0.72834367, 0.72845765, 0.72841309,\n",
       "         0.72153713]),\n",
       "  'std_test_score': array([0.03015071, 0.0253493 , 0.02509006, 0.02932762, 0.03015071,\n",
       "         0.0253493 , 0.02509006, 0.02932762, 0.02555247, 0.02513084,\n",
       "         0.02332693, 0.02228632, 0.02555247, 0.02513084, 0.02332693,\n",
       "         0.02228632]),\n",
       "  'rank_test_score': array([ 3,  1, 11, 13,  3,  1, 11, 13,  9,  5,  7, 15,  9,  5,  7, 15])},\n",
       " {'colsample_bytree': 0.6, 'subsample': 0.7},\n",
       " 0.7288520584974899)"
      ]
     },
     "execution_count": 35,
     "metadata": {},
     "output_type": "execute_result"
    }
   ],
   "source": [
    "param_test4 = {\n",
    " 'subsample':[i/10.0 for i in range(6,10)],\n",
    " 'colsample_bytree':[i/10.0 for i in range(6,10)]\n",
    "}\n",
    "gsearch4 = GridSearchCV(estimator = XGBClassifier( learning_rate =0.1, n_estimators=177, max_depth=9,\n",
    " min_child_weight=6, gamma=0., subsample=0.8, colsample_bytree=0.8,\n",
    " objective= 'binary:logistic', nthread=4, scale_pos_weight=1,seed=27), \n",
    " param_grid = param_test4, scoring='roc_auc',n_jobs=4,iid=False, cv=5)\n",
    "gsearch4.fit(X_train, y_train)\n",
    "gsearch4.cv_results_, gsearch4.best_params_, gsearch4.best_score_"
   ]
  },
  {
   "cell_type": "code",
   "execution_count": 36,
   "metadata": {},
   "outputs": [
    {
     "data": {
      "text/plain": [
       "({'mean_fit_time': array([0.22120852, 0.2194128 , 0.22360168, 0.21003771, 0.25566392,\n",
       "         0.26800079, 0.24794273, 0.26543121, 0.23430939]),\n",
       "  'std_fit_time': array([0.00438887, 0.00652588, 0.01127208, 0.00482819, 0.01143106,\n",
       "         0.00247196, 0.00507755, 0.00487112, 0.04188806]),\n",
       "  'mean_score_time': array([0.00618372, 0.00558581, 0.00558496, 0.00598388, 0.00719743,\n",
       "         0.00619321, 0.0059978 , 0.00582333, 0.00519414]),\n",
       "  'std_score_time': array([0.00074665, 0.0007983 , 0.00119702, 0.00089212, 0.00205272,\n",
       "         0.00073082, 0.00126204, 0.00074881, 0.00039524]),\n",
       "  'param_colsample_bytree': masked_array(data=[0.55, 0.55, 0.55, 0.6, 0.6, 0.6, 0.65, 0.65, 0.65],\n",
       "               mask=[False, False, False, False, False, False, False, False,\n",
       "                     False],\n",
       "         fill_value='?',\n",
       "              dtype=object),\n",
       "  'param_subsample': masked_array(data=[0.55, 0.6, 0.65, 0.55, 0.6, 0.65, 0.55, 0.6, 0.65],\n",
       "               mask=[False, False, False, False, False, False, False, False,\n",
       "                     False],\n",
       "         fill_value='?',\n",
       "              dtype=object),\n",
       "  'params': [{'colsample_bytree': 0.55, 'subsample': 0.55},\n",
       "   {'colsample_bytree': 0.55, 'subsample': 0.6},\n",
       "   {'colsample_bytree': 0.55, 'subsample': 0.65},\n",
       "   {'colsample_bytree': 0.6, 'subsample': 0.55},\n",
       "   {'colsample_bytree': 0.6, 'subsample': 0.6},\n",
       "   {'colsample_bytree': 0.6, 'subsample': 0.65},\n",
       "   {'colsample_bytree': 0.65, 'subsample': 0.55},\n",
       "   {'colsample_bytree': 0.65, 'subsample': 0.6},\n",
       "   {'colsample_bytree': 0.65, 'subsample': 0.65}],\n",
       "  'split0_test_score': array([0.69330004, 0.70016646, 0.70672077, 0.69330004, 0.70016646,\n",
       "         0.70672077, 0.69330004, 0.70016646, 0.70672077]),\n",
       "  'split1_test_score': array([0.74240533, 0.73678735, 0.73793175, 0.74240533, 0.73678735,\n",
       "         0.73793175, 0.74240533, 0.73678735, 0.73793175]),\n",
       "  'split2_test_score': array([0.77902622, 0.78256346, 0.76758219, 0.77902622, 0.78256346,\n",
       "         0.76758219, 0.77902622, 0.78256346, 0.76758219]),\n",
       "  'split3_test_score': array([0.7005512 , 0.70171719, 0.7006572 , 0.7005512 , 0.70171719,\n",
       "         0.7006572 , 0.7005512 , 0.70171719, 0.7006572 ]),\n",
       "  'split4_test_score': array([0.72673671, 0.72266295, 0.73466981, 0.72673671, 0.72266295,\n",
       "         0.73466981, 0.72673671, 0.72266295, 0.73466981]),\n",
       "  'mean_test_score': array([0.7284039 , 0.72877948, 0.72951234, 0.7284039 , 0.72877948,\n",
       "         0.72951234, 0.7284039 , 0.72877948, 0.72951234]),\n",
       "  'std_test_score': array([0.03088525, 0.03015071, 0.02407852, 0.03088525, 0.03015071,\n",
       "         0.02407852, 0.03088525, 0.03015071, 0.02407852]),\n",
       "  'rank_test_score': array([7, 4, 1, 7, 4, 1, 7, 4, 1])},\n",
       " {'colsample_bytree': 0.55, 'subsample': 0.65},\n",
       " 0.729512343061739)"
      ]
     },
     "execution_count": 36,
     "metadata": {},
     "output_type": "execute_result"
    }
   ],
   "source": [
    "param_test5 = {\n",
    " 'subsample':[i/100.0 for i in range(55, 70, 5)],\n",
    " 'colsample_bytree':[i/100.0 for i in range(55, 70,5)]\n",
    "}\n",
    "gsearch5 = GridSearchCV(estimator = XGBClassifier( learning_rate =0.1, n_estimators=177, max_depth=9,\n",
    " min_child_weight=6, gamma=0., subsample=0.6, colsample_bytree=0.6,\n",
    " objective= 'binary:logistic', nthread=4, scale_pos_weight=1,seed=27), \n",
    " param_grid = param_test5, scoring='roc_auc',n_jobs=4,iid=False, cv=5)\n",
    "gsearch5.fit(X_train, y_train)\n",
    "gsearch5.cv_results_, gsearch5.best_params_, gsearch5.best_score_"
   ]
  },
  {
   "cell_type": "code",
   "execution_count": 37,
   "metadata": {},
   "outputs": [
    {
     "data": {
      "text/plain": [
       "({'mean_fit_time': array([0.25271497, 0.22541203, 0.23938894, 0.24633584, 0.12297292]),\n",
       "  'std_fit_time': array([0.01703447, 0.01646926, 0.00402761, 0.01535145, 0.02168237]),\n",
       "  'mean_score_time': array([0.00998154, 0.00751338, 0.00619445, 0.0081779 , 0.00718069]),\n",
       "  'std_score_time': array([0.00431634, 0.0014789 , 0.00117176, 0.00247477, 0.00159636]),\n",
       "  'param_reg_alpha': masked_array(data=[1e-05, 0.01, 0.1, 1, 100],\n",
       "               mask=[False, False, False, False, False],\n",
       "         fill_value='?',\n",
       "              dtype=object),\n",
       "  'params': [{'reg_alpha': 1e-05},\n",
       "   {'reg_alpha': 0.01},\n",
       "   {'reg_alpha': 0.1},\n",
       "   {'reg_alpha': 1},\n",
       "   {'reg_alpha': 100}],\n",
       "  'split0_test_score': array([0.70016646, 0.70307948, 0.70640866, 0.70547233, 0.5       ]),\n",
       "  'split1_test_score': array([0.73678735, 0.7340824 , 0.73512276, 0.74490221, 0.5       ]),\n",
       "  'split2_test_score': array([0.78256346, 0.77985851, 0.78422805, 0.7741365 , 0.5       ]),\n",
       "  'split3_test_score': array([0.70171719, 0.70659317, 0.70786517, 0.7008692 , 0.5       ]),\n",
       "  'split4_test_score': array([0.72266295, 0.72587907, 0.74045883, 0.73852916, 0.5       ]),\n",
       "  'mean_test_score': array([0.72877948, 0.72989853, 0.73481669, 0.73278188, 0.5       ]),\n",
       "  'std_test_score': array([0.03015071, 0.02753929, 0.02830834, 0.02703468, 0.        ]),\n",
       "  'rank_test_score': array([4, 3, 1, 2, 5])},\n",
       " {'reg_alpha': 0.1},\n",
       " 0.7348166938982076)"
      ]
     },
     "execution_count": 37,
     "metadata": {},
     "output_type": "execute_result"
    }
   ],
   "source": [
    "param_test6 = {\n",
    " 'reg_alpha':[1e-5, 1e-2, 0.1, 1, 100]\n",
    "}\n",
    "gsearch6 = GridSearchCV(estimator = XGBClassifier( learning_rate =0.1, n_estimators=177, max_depth=9,\n",
    " min_child_weight=6, gamma=0., subsample=0.6, colsample_bytree=0.55,\n",
    " objective= 'binary:logistic', nthread=4, scale_pos_weight=1,seed=27), \n",
    " param_grid = param_test6, scoring='roc_auc',n_jobs=4,iid=False, cv=5)\n",
    "gsearch6.fit(X_train, y_train)\n",
    "gsearch6.cv_results_, gsearch6.best_params_, gsearch6.best_score_"
   ]
  },
  {
   "cell_type": "code",
   "execution_count": 38,
   "metadata": {},
   "outputs": [
    {
     "name": "stdout",
     "output_type": "stream",
     "text": [
      "\n",
      "Model Report\n",
      "Accuracy (Train): 0.7921\n",
      "AUC Score (Train): 0.872134\n",
      "Accuracy (Test): 0.7486\n",
      "AUC Score (Test): 0.792085\n"
     ]
    },
    {
     "data": {
      "image/png": "[encoded data removed]",
      "text/plain": [
       "<Figure size 864x288 with 1 Axes>"
      ]
     },
     "metadata": {
      "needs_background": "light"
     },
     "output_type": "display_data"
    }
   ],
   "source": [
    "xgb3 = XGBClassifier(\n",
    " learning_rate =0.1,\n",
    " n_estimators=1000,\n",
    " max_depth=9,\n",
    " min_child_weight=6,\n",
    " gamma=0,\n",
    " subsample=0.6,\n",
    " colsample_bytree=0.55,\n",
    " reg_alpha = 1e-05,\n",
    " objective= 'binary:logistic',\n",
    " nthread=4,\n",
    " scale_pos_weight=1,\n",
    " seed=27)\n",
    "modelfit(xgb3, X_train, y_train, X_test, y_test)"
   ]
  },
  {
   "cell_type": "code",
   "execution_count": 39,
   "metadata": {},
   "outputs": [
    {
     "name": "stdout",
     "output_type": "stream",
     "text": [
      "\n",
      "Model Report\n",
      "Accuracy (Train): 0.7879\n",
      "AUC Score (Train): 0.872382\n",
      "Accuracy (Test): 0.7765\n",
      "AUC Score (Test): 0.810167\n"
     ]
    },
    {
     "data": {
      "image/png": "[encoded data removed]",
      "text/plain": [
       "<Figure size 864x288 with 1 Axes>"
      ]
     },
     "metadata": {
      "needs_background": "light"
     },
     "output_type": "display_data"
    }
   ],
   "source": [
    "xgb3 = XGBClassifier(\n",
    " learning_rate =0.01,\n",
    " n_estimators=5000,\n",
    " max_depth=9,\n",
    " min_child_weight=6,\n",
    " gamma=0,\n",
    " subsample=0.6,\n",
    " colsample_bytree=0.55,\n",
    " objective= 'binary:logistic',\n",
    " nthread=4,\n",
    " scale_pos_weight=1,\n",
    " seed=27)\n",
    "modelfit(xgb3, X_train, y_train, X_test, y_test, early_stopping_rounds=500)"
   ]
  },
  {
   "cell_type": "markdown",
   "metadata": {},
   "source": [
    "## Multi-class метрики"
   ]
  },
  {
   "cell_type": "code",
   "execution_count": 40,
   "metadata": {},
   "outputs": [],
   "source": [
    "# https://stackoverflow.com/questions/9004172/precision-recall-for-multiclass-multilabel-classification\n",
    "# https://towardsdatascience.com/journey-to-the-center-of-multi-label-classification-384c40229bff\n",
    "# https://scikit-learn.org/stable/modules/multiclass.html\n",
    "# https://scikit-learn.org/stable/modules/model_evaluation.html#multiclass-and-multilabel-classification"
   ]
  },
  {
   "cell_type": "code",
   "execution_count": 41,
   "metadata": {},
   "outputs": [],
   "source": [
    "from sklearn import metrics\n",
    "import numpy as np"
   ]
  },
  {
   "cell_type": "code",
   "execution_count": 42,
   "metadata": {},
   "outputs": [],
   "source": [
    "y_true = np.array([0, 1, 2, 0, 1, 2, 2, 2, 3])\n",
    "y_pred = np.array([0, 2, 1, 0, 0, 1, 3, 3, 3])"
   ]
  },
  {
   "cell_type": "code",
   "execution_count": 43,
   "metadata": {},
   "outputs": [
    {
     "data": {
      "text/plain": [
       "(0.3333333333333333, 0.3333333333333333)"
      ]
     },
     "execution_count": 43,
     "metadata": {},
     "output_type": "execute_result"
    }
   ],
   "source": [
    "# micro \n",
    "TP = 0\n",
    "FP = 0\n",
    "TN = 0\n",
    "FN = 0\n",
    "\n",
    "for i in range(4):\n",
    "    TP += ((y_true == i) * (y_pred == i)).sum()\n",
    "    FP += ((y_true != i) * (y_pred == i)).sum()\n",
    "    TN += ((y_true != i) * (y_pred != i)).sum()\n",
    "    FN += ((y_true == i) * (y_pred != i)).sum()\n",
    "\n",
    "micro_P, micro_R = TP/(TP+FP), TP/(TP+FN)\n",
    "micro_P, micro_R"
   ]
  },
  {
   "cell_type": "code",
   "execution_count": 44,
   "metadata": {},
   "outputs": [
    {
     "data": {
      "text/plain": [
       "(0.25, 0.5)"
      ]
     },
     "execution_count": 44,
     "metadata": {},
     "output_type": "execute_result"
    }
   ],
   "source": [
    "# macro \n",
    "macro_P, macro_R = 0, 0\n",
    "\n",
    "for i in range(4):\n",
    "    TP = 0\n",
    "    FP = 0\n",
    "    TN = 0\n",
    "    FN = 0\n",
    "    \n",
    "    TP += ((y_true == i) * (y_pred == i)).sum()\n",
    "    FP += ((y_true != i) * (y_pred == i)).sum()\n",
    "    TN += ((y_true != i) * (y_pred != i)).sum()\n",
    "    FN += ((y_true == i) * (y_pred != i)).sum()\n",
    "\n",
    "    macro_P += TP/(TP+FP)\n",
    "    macro_R += TP/(TP+FN)\n",
    "    \n",
    "macro_P /= 4\n",
    "macro_R /= 4\n",
    "\n",
    "macro_P, macro_R"
   ]
  },
  {
   "cell_type": "code",
   "execution_count": 45,
   "metadata": {},
   "outputs": [
    {
     "data": {
      "text/plain": [
       "0.3333333333333333"
      ]
     },
     "execution_count": 45,
     "metadata": {},
     "output_type": "execute_result"
    }
   ],
   "source": [
    "metrics.precision_score(y_true, y_pred, average='micro')"
   ]
  },
  {
   "cell_type": "code",
   "execution_count": 46,
   "metadata": {},
   "outputs": [
    {
     "data": {
      "text/plain": [
       "0.3333333333333333"
      ]
     },
     "execution_count": 46,
     "metadata": {},
     "output_type": "execute_result"
    }
   ],
   "source": [
    "metrics.recall_score(y_true, y_pred, average='micro')"
   ]
  },
  {
   "cell_type": "code",
   "execution_count": 47,
   "metadata": {},
   "outputs": [
    {
     "data": {
      "text/plain": [
       "0.25"
      ]
     },
     "execution_count": 47,
     "metadata": {},
     "output_type": "execute_result"
    }
   ],
   "source": [
    "metrics.precision_score(y_true, y_pred, average='macro')"
   ]
  },
  {
   "cell_type": "code",
   "execution_count": 48,
   "metadata": {},
   "outputs": [
    {
     "data": {
      "text/plain": [
       "0.5"
      ]
     },
     "execution_count": 48,
     "metadata": {},
     "output_type": "execute_result"
    }
   ],
   "source": [
    "metrics.recall_score(y_true, y_pred, average='macro')"
   ]
  },
  {
   "cell_type": "code",
   "execution_count": null,
   "metadata": {},
   "outputs": [],
   "source": []
  },
  {
   "cell_type": "code",
   "execution_count": null,
   "metadata": {},
   "outputs": [],
   "source": []
  }
 ],
 "metadata": {
  "anaconda-cloud": {},
  "kernelspec": {
   "display_name": "Python 3",
   "language": "python",
   "name": "python3"
  },
  "language_info": {
   "codemirror_mode": {
    "name": "ipython",
    "version": 3
   },
   "file_extension": ".py",
   "mimetype": "text/x-python",
   "name": "python",
   "nbconvert_exporter": "python",
   "pygments_lexer": "ipython3",
   "version": "3.7.3"
  }
 },
 "nbformat": 4,
 "nbformat_minor": 1
}
