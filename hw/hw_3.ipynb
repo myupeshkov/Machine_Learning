{
 "cells": [
  {
   "cell_type": "markdown",
   "metadata": {
    "id": "mlFwu1EJw15T"
   },
   "source": [
    "# Домашнее задание №3\n",
    "Задание выполнил: Пешков Максим\n",
    "\n",
    "Общая информация\n",
    "Дата выдачи: 08.04.2020\n",
    "\n",
    "# Дедлайн: 23:59 26.04.2020\n"
   ]
  },
  {
   "cell_type": "markdown",
   "metadata": {
    "id": "xElkkB03xW-v"
   },
   "source": [
    "# Подготовка данных"
   ]
  },
  {
   "cell_type": "code",
   "execution_count": 50,
   "metadata": {
    "id": "6ZbkKNdHxUr-"
   },
   "outputs": [],
   "source": [
    "import numpy as np\n",
    "import pandas as pd\n",
    "\n",
    "import matplotlib.pyplot as plt\n",
    "%matplotlib inline\n",
    "from tqdm import tqdm"
   ]
  },
  {
   "cell_type": "code",
   "execution_count": 51,
   "metadata": {
    "id": "ODWOPwlLsKSp"
   },
   "outputs": [],
   "source": [
    "import re"
   ]
  },
  {
   "cell_type": "code",
   "execution_count": 52,
   "metadata": {},
   "outputs": [],
   "source": [
    "data = pd.read_csv('avito_data.csv')"
   ]
  },
  {
   "cell_type": "code",
   "execution_count": 53,
   "metadata": {
    "id": "7LdcJ1HqzWks",
    "outputId": "4f47147d-2b37-4015-b0c3-a8ec923a3ace"
   },
   "outputs": [
    {
     "data": {
      "text/html": [
       "<div>\n",
       "<style scoped>\n",
       "    .dataframe tbody tr th:only-of-type {\n",
       "        vertical-align: middle;\n",
       "    }\n",
       "\n",
       "    .dataframe tbody tr th {\n",
       "        vertical-align: top;\n",
       "    }\n",
       "\n",
       "    .dataframe thead th {\n",
       "        text-align: right;\n",
       "    }\n",
       "</style>\n",
       "<table border=\"1\" class=\"dataframe\">\n",
       "  <thead>\n",
       "    <tr style=\"text-align: right;\">\n",
       "      <th></th>\n",
       "      <th>id</th>\n",
       "      <th>title</th>\n",
       "      <th>description</th>\n",
       "      <th>Category_name</th>\n",
       "      <th>Category</th>\n",
       "    </tr>\n",
       "  </thead>\n",
       "  <tbody>\n",
       "    <tr>\n",
       "      <th>0</th>\n",
       "      <td>382220</td>\n",
       "      <td>Прихожая</td>\n",
       "      <td>В хорошем состоянии. Торг</td>\n",
       "      <td>Мебель и интерьер</td>\n",
       "      <td>20</td>\n",
       "    </tr>\n",
       "    <tr>\n",
       "      <th>1</th>\n",
       "      <td>397529</td>\n",
       "      <td>Кордиант 215/55/16 Летние</td>\n",
       "      <td>Кордиант 215/55/16 Летние/\\r\\n /\\r\\nАртикул: 1...</td>\n",
       "      <td>Запчасти и аксессуары</td>\n",
       "      <td>10</td>\n",
       "    </tr>\n",
       "    <tr>\n",
       "      <th>2</th>\n",
       "      <td>584569</td>\n",
       "      <td>Стол</td>\n",
       "      <td>Стол, 2 рабочих места . Стол серого цвета, в д...</td>\n",
       "      <td>Мебель и интерьер</td>\n",
       "      <td>20</td>\n",
       "    </tr>\n",
       "    <tr>\n",
       "      <th>3</th>\n",
       "      <td>2513100</td>\n",
       "      <td>Комбинезон</td>\n",
       "      <td>Размер-42/44</td>\n",
       "      <td>Одежда, обувь, аксессуары</td>\n",
       "      <td>27</td>\n",
       "    </tr>\n",
       "    <tr>\n",
       "      <th>4</th>\n",
       "      <td>1091886</td>\n",
       "      <td>Ветровка</td>\n",
       "      <td>На 2 года</td>\n",
       "      <td>Детская одежда и обувь</td>\n",
       "      <td>29</td>\n",
       "    </tr>\n",
       "  </tbody>\n",
       "</table>\n",
       "</div>"
      ],
      "text/plain": [
       "        id                      title  \\\n",
       "0   382220                   Прихожая   \n",
       "1   397529  Кордиант 215/55/16 Летние   \n",
       "2   584569                       Стол   \n",
       "3  2513100                 Комбинезон   \n",
       "4  1091886                   Ветровка   \n",
       "\n",
       "                                         description  \\\n",
       "0                          В хорошем состоянии. Торг   \n",
       "1  Кордиант 215/55/16 Летние/\\r\\n /\\r\\nАртикул: 1...   \n",
       "2  Стол, 2 рабочих места . Стол серого цвета, в д...   \n",
       "3                                       Размер-42/44   \n",
       "4                                          На 2 года   \n",
       "\n",
       "               Category_name  Category  \n",
       "0          Мебель и интерьер        20  \n",
       "1      Запчасти и аксессуары        10  \n",
       "2          Мебель и интерьер        20  \n",
       "3  Одежда, обувь, аксессуары        27  \n",
       "4     Детская одежда и обувь        29  "
      ]
     },
     "execution_count": 53,
     "metadata": {},
     "output_type": "execute_result"
    }
   ],
   "source": [
    "data.head()"
   ]
  },
  {
   "cell_type": "code",
   "execution_count": 54,
   "metadata": {
    "id": "KrUsagbHzeSn",
    "outputId": "197f03a5-b534-4ff0-e39e-fc5f7ca675cc"
   },
   "outputs": [
    {
     "data": {
      "text/plain": [
       "(30000, 5)"
      ]
     },
     "execution_count": 54,
     "metadata": {},
     "output_type": "execute_result"
    }
   ],
   "source": [
    "data.shape"
   ]
  },
  {
   "cell_type": "code",
   "execution_count": 55,
   "metadata": {
    "id": "I9l2Pbydzfuo"
   },
   "outputs": [],
   "source": [
    "X = data[['title', 'description']].to_numpy()\n",
    "y = data['Category'].to_numpy()\n",
    "\n",
    "del data"
   ]
  },
  {
   "cell_type": "code",
   "execution_count": 56,
   "metadata": {
    "id": "FOBIjdk8zjE9"
   },
   "outputs": [],
   "source": [
    "from sklearn.model_selection import train_test_split\n",
    "\n",
    "X_train, X_test, y_train, y_test = train_test_split(X, y, test_size=0.3, random_state=42)"
   ]
  },
  {
   "cell_type": "code",
   "execution_count": 57,
   "metadata": {
    "id": "50w6JRY4zn1d",
    "outputId": "be770a46-2abb-49fe-b2ad-f315b2ef9617"
   },
   "outputs": [
    {
     "data": {
      "text/plain": [
       "array([['Сапоги 46 размер новые', 'Сапоги 46 размер новые'],\n",
       "       ['Светильники потолочный swarovski',\n",
       "        'светильники потолочные swarovski 6 штук , цена за штуку. В эксплуатации 2 года , продаются в связи со сменой интерьера в квартире'],\n",
       "       ['iPhone 7 plus 128GB Red красный в наличии',\n",
       "        '\\xa0/\\r\\n/\\r\\n Данная цена только для подписчиков Instagram: iQmac/\\r\\n/\\r\\n Новый красный айфон 7 Plus в наличии это элегантный и мощный смартфон, который готов в полной мере раскрыть новые возможности iOS 10. Аппарат с 4-ядерным процессором А10 и 3 ГБ ОЗУ с легкостью решает самые ресурсоемкие задачи, позволяя наслаждаться быстродействием «тяжелых» приложений и игр на 5,5-дюймовом дисплее. Аппарат получил экран, как у iPad Pro, так что картинка теперь соответствует кинематографическому стандарту.'],\n",
       "       ['Пион Ирис Ромашка рассада',\n",
       "        'Пион куст 500 р ( более 10 шт)/\\r\\nСаженец/ корень 100р/\\r\\nРастут у нас более 70 лет/\\r\\nРозовые, бордовые и белые/\\r\\nНа фото цветы 2018г/\\r\\nП. Зубчаниновка/\\r\\nлибо пл. Революции/\\r\\nЕсть ирисы, ромашка, клубника, боярышник и ирга'],\n",
       "       ['Кофта', 'Состояние отличное']], dtype=object)"
      ]
     },
     "execution_count": 57,
     "metadata": {},
     "output_type": "execute_result"
    }
   ],
   "source": [
    "X_train[:5]"
   ]
  },
  {
   "cell_type": "code",
   "execution_count": 58,
   "metadata": {
    "id": "VAHa7o2Fzpmc",
    "outputId": "3feb01bc-8e6b-4986-9ec3-d377b6f1309c"
   },
   "outputs": [
    {
     "data": {
      "text/plain": [
       "array([ 27,  20,  84, 106,  27], dtype=int64)"
      ]
     },
     "execution_count": 58,
     "metadata": {},
     "output_type": "execute_result"
    }
   ],
   "source": [
    "y_train[:5]"
   ]
  },
  {
   "cell_type": "markdown",
   "metadata": {
    "id": "DT34yhSZ0PFg"
   },
   "source": [
    "# Токенизация (0.5 балла)\n",
    "Токенизация -- разбиение текста на мелкие части, которые можно обработать машинными методами. Можно использовать разные алгоритмы токенизации. В данном задании мы будем использовать WordPunctTokenizer."
   ]
  },
  {
   "cell_type": "code",
   "execution_count": 59,
   "metadata": {
    "id": "_I_xg2Sq0RgR",
    "outputId": "205d4572-b530-4355-c1e3-395c355b3df0"
   },
   "outputs": [
    {
     "name": "stdout",
     "output_type": "stream",
     "text": [
      "before: Здраствуйте. Я, Кирилл. Хотел бы чтобы вы сделали игру, 3Д-экшон суть такова...\n",
      "after: ['здраствуйте', '.', 'я', ',', 'кирилл', '.', 'хотел', 'бы', 'чтобы', 'вы', 'сделали', 'игру', ',', '3д', '-', 'экшон', 'суть', 'такова', '...']\n"
     ]
    }
   ],
   "source": [
    "from nltk.tokenize import WordPunctTokenizer\n",
    "\n",
    "tokenizer = WordPunctTokenizer()\n",
    "\n",
    "text = 'Здраствуйте. Я, Кирилл. Хотел бы чтобы вы сделали игру, 3Д-экшон суть такова...'\n",
    "\n",
    "print(\"before:\", text,)\n",
    "print(\"after:\", tokenizer.tokenize(text.lower()))"
   ]
  },
  {
   "cell_type": "code",
   "execution_count": 60,
   "metadata": {
    "id": "tu1lLtJa0Weq"
   },
   "outputs": [],
   "source": [
    "def preprocess(text: str, tokenizer) -> str:\n",
    "    \"\"\"\n",
    "    Данная функция принимает на вход текст, \n",
    "    а возвращает тот же текст, но с пробелами между каждым токеном\n",
    "    \"\"\"\n",
    "    t = tokenizer.tokenize(text.lower())\n",
    "    return ' '.join(t)"
   ]
  },
  {
   "cell_type": "code",
   "execution_count": 61,
   "metadata": {
    "id": "84IOz5Mq1Uq2"
   },
   "outputs": [],
   "source": [
    "assert preprocess(text, tokenizer) == 'здраствуйте . я , кирилл . хотел бы чтобы вы сделали игру , 3д - экшон суть такова ...'"
   ]
  },
  {
   "cell_type": "markdown",
   "metadata": {
    "id": "wMaB8L7h6EA9"
   },
   "source": [
    "## Задание: \n",
    "\n",
    "Токенизируйте 'title' и 'description' в train и test."
   ]
  },
  {
   "cell_type": "code",
   "execution_count": 62,
   "metadata": {
    "id": "P1RJuCYH88iK",
    "outputId": "d4f197f4-6f1f-43a7-8f53-bb0ac5dd4ab3"
   },
   "outputs": [
    {
     "name": "stderr",
     "output_type": "stream",
     "text": [
      "100%|█████████████████████████████████████████████████████████████████████████| 21000/21000 [00:01<00:00, 16275.30it/s]\n",
      "100%|███████████████████████████████████████████████████████████████████████████| 9000/9000 [00:00<00:00, 16301.25it/s]\n"
     ]
    }
   ],
   "source": [
    "X_train_new = []\n",
    "for i in tqdm(range(len(X_train))):\n",
    "    X_train_new.append([preprocess(X_train[i][0], tokenizer), preprocess(X_train[i][1], tokenizer)])\n",
    "X_train = X_train_new\n",
    "X_test_new = []\n",
    "for j in tqdm(range(len(X_test))):\n",
    "    X_test_new.append([preprocess(X_test[j][0], tokenizer), preprocess(X_test[j][1], tokenizer)])\n",
    "X_test = X_test_new"
   ]
  },
  {
   "cell_type": "code",
   "execution_count": 63,
   "metadata": {
    "id": "3GWaJXre7RSt"
   },
   "outputs": [],
   "source": [
    "assert X_train[5][0] == '1 - к квартира , 33 м² , 4 / 5 эт .'\n",
    "assert X_train[10][1] == 'продам иж планета 3 , 76 год , ( стоит на старом учёте , документы утеряны ) на ходу , хорошее состояние , все интересующие вопросы по телефону ( с родной коляской на 3 тысячи дороже ) . торга не будет .'\n",
    "assert X_test[2][0] == 'фара правая toyota rav 4 галоген 2015 - 19'\n",
    "assert X_test[2][1] == 'фара правая для toyota rav4 2015 / оригинальный номер : 8113042650 / тойота рав4 тоета рав 4 / производитель : toyota / состояние : отличное без дефектов ! / комментарий : после 2015 не ксенон галоген + диод / пожалуйста , уточняйте соответствие вашего заказа изображенному на фото . / звоните уточняйте по наличию предоставляется время на проверку детали / отправляем в регионы рф транспортными компаниями / . / всегда включен вайбер вацап по вопросам !/ дополнительное фото по запросу'"
   ]
  },
  {
   "cell_type": "markdown",
   "metadata": {
    "id": "TFxI6t_bolqW"
   },
   "source": [
    "# BOW (3 балла)\n",
    "\n",
    "Один из традиционных подходов -- построение bag of words.\n",
    "\n",
    "Метод состоит в следующем:\n",
    "\n",
    "Составить словарь самых часто встречающихся слов в train data\n",
    "Для каждого примера из train посчитать, сколько раз каждое слово из словаря в нём встречается\n",
    "В sklearn есть CountVectorizer, но в этом задании его использовать нельзя.\n",
    "\n",
    "## Задание: \n",
    "\n",
    "Cоздайте словарь, где каждому токену соответствует количество раз, которое оно встретилось в X_train."
   ]
  },
  {
   "cell_type": "code",
   "execution_count": 64,
   "metadata": {
    "id": "G25GH5zWn7vF",
    "outputId": "2f3a5d3e-789b-47a3-f334-c1844a2d4215"
   },
   "outputs": [],
   "source": [
    "X_all = []\n",
    "for i in range(len(X_train)):\n",
    "    X_all.append(X_train[i][0].split(' '))\n",
    "    X_all.append(X_train[i][1].split(' '))"
   ]
  },
  {
   "cell_type": "code",
   "execution_count": 65,
   "metadata": {},
   "outputs": [],
   "source": [
    "tokens_cnt = {}\n",
    "for token in X_all:\n",
    "    for toks in token:\n",
    "        try:\n",
    "            tokens_cnt.update({toks: tokens_cnt[toks] + 1})\n",
    "        except KeyError:\n",
    "            tokens_cnt.update({toks: 1})"
   ]
  },
  {
   "cell_type": "code",
   "execution_count": 66,
   "metadata": {
    "id": "AEzUSEWV37VN"
   },
   "outputs": [],
   "source": [
    "assert tokens_cnt['сапоги'] == 454"
   ]
  },
  {
   "cell_type": "markdown",
   "metadata": {},
   "source": [
    "## Задание \n",
    "выведите 10 самых частотных и 10 самых редких токенов."
   ]
  },
  {
   "cell_type": "code",
   "execution_count": 67,
   "metadata": {
    "id": "WtNeBzQhvh_g",
    "outputId": "da6df90c-5106-4f89-d588-62f1c516c05f"
   },
   "outputs": [
    {
     "data": {
      "text/plain": [
       "[('с', 12860),\n",
       " (':', 15098),\n",
       " ('./', 17639),\n",
       " ('на', 19465),\n",
       " ('и', 21714),\n",
       " ('в', 28337),\n",
       " ('-', 36840),\n",
       " ('.', 65624),\n",
       " (',', 79117),\n",
       " ('/', 85802)]"
      ]
     },
     "execution_count": 67,
     "metadata": {},
     "output_type": "execute_result"
    }
   ],
   "source": [
    "sorted(list(tokens_cnt.items()), key=lambda x: x[1])[-10:]"
   ]
  },
  {
   "cell_type": "code",
   "execution_count": 68,
   "metadata": {
    "id": "eimSHF7A4B4K",
    "outputId": "7c1eea94-76a0-489b-9334-c3863a9b9edf"
   },
   "outputs": [
    {
     "data": {
      "text/plain": [
       "[('iqmac', 1),\n",
       " ('ядерным', 1),\n",
       " ('ресурсоемкие', 1),\n",
       " ('быстродействием', 1),\n",
       " ('кинематографическому', 1),\n",
       " ('ирис', 1),\n",
       " ('саженец', 1),\n",
       " ('корень', 1),\n",
       " ('зубчаниновка', 1),\n",
       " ('боярышник', 1)]"
      ]
     },
     "execution_count": 68,
     "metadata": {},
     "output_type": "execute_result"
    }
   ],
   "source": [
    "sorted(list(tokens_cnt.items()), key=lambda x: x[1])[:10]"
   ]
  },
  {
   "cell_type": "markdown",
   "metadata": {},
   "source": [
    "## Задание:\n",
    "оставьте в словаре только топ-10000 самых частотных токенов, также создайте отдельный список из этих слов."
   ]
  },
  {
   "cell_type": "code",
   "execution_count": 69,
   "metadata": {
    "id": "xkaVSK2uxLyx",
    "outputId": "9628fe20-4eae-4fcd-b5a4-f7ff04bc7d7f"
   },
   "outputs": [],
   "source": [
    "new_dict = {}\n",
    "tokens_list =[]\n",
    "a = sorted(list(tokens_cnt.items()), key=lambda x: x[1])[-10000:]\n",
    "for para in a:\n",
    "    new_dict.update({para[0]: para[1]})\n",
    "    tokens_list.append(para[0])\n",
    "tokens_cnt = new_dict"
   ]
  },
  {
   "cell_type": "markdown",
   "metadata": {
    "id": "snNnaB_1BSad"
   },
   "source": [
    "## Задание: \n",
    "\n",
    "Реализуйте функцию, которая переводит текст в вектор из чисел. То есть каждому токену из списка токенов сопоставляется количество раз, которое он встретился в тексте."
   ]
  },
  {
   "cell_type": "code",
   "execution_count": 70,
   "metadata": {
    "id": "NF0eLn2_9NJR"
   },
   "outputs": [],
   "source": [
    "def text_to_bow(text: str, tokens_list: list) -> np.array:\n",
    "    \"\"\"\n",
    "    Возвращает вектор, где для каждого слова из словаря\n",
    "    указано количество его употреблений в предложении\n",
    "    input: строка, список токенов\n",
    "    output: вектор той же размерности, что и список токе/нов\n",
    "    \"\"\"\n",
    "    list_return = np.zeros(len(tokens_list))\n",
    "    find_str = tokenizer.tokenize(text)\n",
    "    for element in find_str:\n",
    "        try:\n",
    "            list_return[tokens_list.index(element)] += 1\n",
    "        except ValueError:\n",
    "            pass   \n",
    "    return list_return "
   ]
  },
  {
   "cell_type": "code",
   "execution_count": 71,
   "metadata": {
    "id": "LZGbP6Lp9ZUu"
   },
   "outputs": [],
   "source": [
    "example_text = text_to_bow(\"сдаётся уютный , тёплый гараж для стартапов в ml\", tokens_list)\n",
    "\n",
    "assert np.allclose(example_text.mean(), 0.0008)"
   ]
  },
  {
   "cell_type": "markdown",
   "metadata": {
    "id": "6J8lgM3wBIjM"
   },
   "source": [
    "## Задание: \n",
    "\n",
    "а теперь реализуйте функцию, которая преобразует наш датасет и каждому тексту из 'description' сопоставляет вектор."
   ]
  },
  {
   "cell_type": "code",
   "execution_count": 72,
   "metadata": {
    "id": "CyN84COIBKY2"
   },
   "outputs": [],
   "source": [
    "def descr_to_bow(items: np.array, tokens_list: list) -> np.array:\n",
    "    \"\"\" Для каждого описания товара возвращает вектор его bow \"\"\"\n",
    "    gg_bow = []\n",
    "    for i in range(len(items)):\n",
    "        gg_bow.append(text_to_bow(items[i][1], tokens_list))\n",
    "    return np.asarray(gg_bow)"
   ]
  },
  {
   "cell_type": "code",
   "execution_count": 73,
   "metadata": {
    "id": "NI-C2A9zC7es"
   },
   "outputs": [],
   "source": [
    "X_train_bow = descr_to_bow(X_train, tokens_list)\n",
    "X_test_bow = descr_to_bow(X_test, tokens_list)"
   ]
  },
  {
   "cell_type": "code",
   "execution_count": 74,
   "metadata": {
    "id": "Sk8uI3gqC8Jp"
   },
   "outputs": [],
   "source": [
    "assert X_train_bow.shape == (21000, 10000), X_test_bow.shape == (9000, 10000)\n",
    "assert 0.005 < X_train_bow.mean() < 0.006\n",
    "assert 0.005 < X_test_bow.mean() < 0.006"
   ]
  },
  {
   "cell_type": "markdown",
   "metadata": {
    "id": "7vS0v1dmIkd1"
   },
   "source": [
    "# Логистическая регрессия и SVC (0.5 балла)\n",
    "\n",
    "Теперь описание каждого товара представлено, как точка в многомерном пространстве. Очень важно запомнить эту идею: дальше мы будем рассматривать разные способы перехода от текста к точке в пространстве.\n",
    "\n",
    "Для BOW каждое измерение в пространстве -- какое-то слово. Мы предполагаем, что текст описывается набором каких-то популярных слов, которые в нём встречаются, а близкие по смыслу тексты будут использовать одинаковые слова.\n",
    "\n",
    "Обучите логистическую регрессию и SVM с линейным ядром (sklearn.svm.LinearSVC или sklearn.svm.SVC(kernel='linear')) с базовыми параметрами. При необходимости можете увеличить максимальное число итераций. В качестве random_state возьмите 13.\n",
    "\n",
    "Подсказка: для того, чтобы было проще обучать, можно использовать [разреженные матрицы](https://ru.wikipedia.org/wiki/%D0%A0%D0%B0%D0%B7%D1%80%D0%B5%D0%B6%D0%B5%D0%BD%D0%BD%D0%B0%D1%8F%D0%BC%D0%B0%D1%82%D1%80%D0%B8%D1%86%D0%B0) - многие модели из sklearn умеют с ними работать. Соответствующий модуль из scipy: scipy.sparse. Нетрудно заметить, что в полученных BOW-матрицах очень много нулей. Если хранить в памяти только ненулевые элементы, можно сильно оптимизировать вычисления. Можете в этом убедиться:_"
   ]
  },
  {
   "cell_type": "code",
   "execution_count": 75,
   "metadata": {
    "id": "TQc-IY0AIlTu",
    "outputId": "65b62fae-6447-4608-8148-4b94a52ed7b9"
   },
   "outputs": [
    {
     "name": "stdout",
     "output_type": "stream",
     "text": [
      "Train array in memory (raw): 1680.000 Mb\n",
      "Train array in memory (compressed): 8.603 Mb\n"
     ]
    }
   ],
   "source": [
    "print('Train array in memory (raw): {:.3f} Mb'.format(X_train_bow.nbytes * 1e-6))\n",
    "\n",
    "from scipy.sparse import csr_matrix\n",
    "X_train_bow_csr = csr_matrix(X_train_bow)\n",
    "print('Train array in memory (compressed): {:.3f} Mb'.format(\n",
    "    (X_train_bow_csr.data.nbytes + X_train_bow_csr.indptr.nbytes + X_train_bow_csr.indices.nbytes) * 1e-6)\n",
    ")"
   ]
  },
  {
   "cell_type": "code",
   "execution_count": 76,
   "metadata": {
    "id": "f2jk2cvRIo2W"
   },
   "outputs": [],
   "source": [
    "import sklearn\n",
    "from sklearn.metrics import accuracy_score"
   ]
  },
  {
   "cell_type": "code",
   "execution_count": 77,
   "metadata": {
    "id": "CZWE-77sIq14",
    "outputId": "7dd61635-816a-44cb-dd18-7758af1f977f"
   },
   "outputs": [],
   "source": [
    "LogReg = sklearn.linear_model.LogisticRegression(max_iter=1000000, random_state=13)"
   ]
  },
  {
   "cell_type": "code",
   "execution_count": 78,
   "metadata": {},
   "outputs": [
    {
     "name": "stderr",
     "output_type": "stream",
     "text": [
      "C:\\anaconda\\lib\\site-packages\\sklearn\\linear_model\\logistic.py:469: FutureWarning: Default multi_class will be changed to 'auto' in 0.22. Specify the multi_class option to silence this warning.\n",
      "  \"this warning.\", FutureWarning)\n"
     ]
    },
    {
     "data": {
      "text/plain": [
       "0.7052222222222222"
      ]
     },
     "execution_count": 78,
     "metadata": {},
     "output_type": "execute_result"
    }
   ],
   "source": [
    "LogReg.fit(X_train_bow, y_train)\n",
    "y_pred = LogReg.predict(X_test_bow)\n",
    "accuracy_score(y_test, y_pred)"
   ]
  },
  {
   "cell_type": "code",
   "execution_count": 79,
   "metadata": {
    "id": "4Z9oNjrgO47L"
   },
   "outputs": [],
   "source": [
    "assert accuracy_score(y_test, y_pred) > 0.695"
   ]
  },
  {
   "cell_type": "code",
   "execution_count": 80,
   "metadata": {
    "id": "VS2_vtb7KjrP"
   },
   "outputs": [],
   "source": [
    "SVM = sklearn.svm.LinearSVC()"
   ]
  },
  {
   "cell_type": "code",
   "execution_count": 81,
   "metadata": {},
   "outputs": [
    {
     "name": "stderr",
     "output_type": "stream",
     "text": [
      "C:\\anaconda\\lib\\site-packages\\sklearn\\svm\\base.py:929: ConvergenceWarning: Liblinear failed to converge, increase the number of iterations.\n",
      "  \"the number of iterations.\", ConvergenceWarning)\n"
     ]
    },
    {
     "data": {
      "text/plain": [
       "0.6828888888888889"
      ]
     },
     "execution_count": 81,
     "metadata": {},
     "output_type": "execute_result"
    }
   ],
   "source": [
    "SVM.fit(X_train_bow, y_train)\n",
    "y_pred2 = SVM.predict(X_test_bow)\n",
    "accuracy_score(y_test, y_pred2)"
   ]
  },
  {
   "cell_type": "code",
   "execution_count": 82,
   "metadata": {
    "id": "2sIJNcxxSedt"
   },
   "outputs": [],
   "source": [
    "assert accuracy_score(y_test, y_pred2) > 0.68"
   ]
  },
  {
   "cell_type": "markdown",
   "metadata": {
    "id": "0BORoSoPLX8x"
   },
   "source": [
    "# Модификация признаков (2 балла)\n",
    "\n",
    "## Задание\n",
    "Прибавьте к соответствующим BOW-векторам BOW-вектора для 'title' товара с некоторым весом. Изменится ли качество? Как вы можете это объяснить?"
   ]
  },
  {
   "cell_type": "code",
   "execution_count": 83,
   "metadata": {
    "id": "QnI4CUiuLYyz"
   },
   "outputs": [],
   "source": [
    "def des_to_bow(items: np.array, tokens_list: list) -> np.array:\n",
    "    \"\"\" Для каждого описания товара возвращает вектор его bow \"\"\"\n",
    "    gg_bow0 = []\n",
    "    for i in range(len(items)):\n",
    "        gg_bow0.append(text_to_bow(items[i][0], tokens_list))\n",
    "    return np.asarray(gg_bow0) + descr_to_bow(items, tokens_list)"
   ]
  },
  {
   "cell_type": "code",
   "execution_count": 86,
   "metadata": {
    "id": "741Ik9MaR0uI"
   },
   "outputs": [],
   "source": [
    "X_train_bow_all = des_to_bow(X_train, tokens_list)\n",
    "X_test_bow_all = des_to_bow(X_test, tokens_list)"
   ]
  },
  {
   "cell_type": "code",
   "execution_count": 87,
   "metadata": {},
   "outputs": [],
   "source": [
    "X_train_bow_all = csr_matrix(X_train_bow_all)\n",
    "X_test_bow_all = csr_matrix(X_test_bow_all)"
   ]
  },
  {
   "cell_type": "code",
   "execution_count": 88,
   "metadata": {},
   "outputs": [
    {
     "name": "stderr",
     "output_type": "stream",
     "text": [
      "C:\\anaconda\\lib\\site-packages\\sklearn\\linear_model\\logistic.py:432: FutureWarning: Default solver will be changed to 'lbfgs' in 0.22. Specify a solver to silence this warning.\n",
      "  FutureWarning)\n",
      "C:\\anaconda\\lib\\site-packages\\sklearn\\linear_model\\logistic.py:469: FutureWarning: Default multi_class will be changed to 'auto' in 0.22. Specify the multi_class option to silence this warning.\n",
      "  \"this warning.\", FutureWarning)\n"
     ]
    },
    {
     "data": {
      "text/plain": [
       "0.7841111111111111"
      ]
     },
     "execution_count": 88,
     "metadata": {},
     "output_type": "execute_result"
    }
   ],
   "source": [
    "LogReg.fit(X_train_bow_all, y_train)\n",
    "y_pred_all = LogReg.predict(X_test_bow_all)\n",
    "accuracy_score(y_test, y_pred_all)"
   ]
  },
  {
   "cell_type": "code",
   "execution_count": 89,
   "metadata": {},
   "outputs": [
    {
     "name": "stderr",
     "output_type": "stream",
     "text": [
      "C:\\anaconda\\lib\\site-packages\\sklearn\\svm\\base.py:929: ConvergenceWarning: Liblinear failed to converge, increase the number of iterations.\n",
      "  \"the number of iterations.\", ConvergenceWarning)\n"
     ]
    },
    {
     "data": {
      "text/plain": [
       "0.754"
      ]
     },
     "execution_count": 89,
     "metadata": {},
     "output_type": "execute_result"
    }
   ],
   "source": [
    "SVM.fit(X_train_bow_all, y_train)\n",
    "y_pred_all2 = SVM.predict(X_test_bow_all)\n",
    "accuracy_score(y_test, y_pred_all2)"
   ]
  },
  {
   "cell_type": "markdown",
   "metadata": {},
   "source": [
    "**Вывод:** Качество улучшилось, так как стало больше признаков и информации о словах соответственно"
   ]
  },
  {
   "cell_type": "markdown",
   "metadata": {
    "id": "4RGKnjdCTCjj"
   },
   "source": [
    "## Задание\n",
    "Нормализуйте данные с помощью MinMaxScaler или MinAbsScaler перед обучением. Что станет с качеством и почему?"
   ]
  },
  {
   "cell_type": "code",
   "execution_count": 90,
   "metadata": {
    "id": "4H_wZCWVTDBB"
   },
   "outputs": [],
   "source": [
    "from sklearn.preprocessing import MaxAbsScaler"
   ]
  },
  {
   "cell_type": "code",
   "execution_count": 91,
   "metadata": {},
   "outputs": [],
   "source": [
    "scaler = MaxAbsScaler()"
   ]
  },
  {
   "cell_type": "code",
   "execution_count": 92,
   "metadata": {
    "id": "kEqjUE-qWwDr"
   },
   "outputs": [],
   "source": [
    "scaler = MaxAbsScaler()\n",
    "X_train_bow_norm = scaler.fit_transform(X_train_bow_all)\n",
    "X_test_bow_norm = scaler.fit_transform(X_test_bow_all)"
   ]
  },
  {
   "cell_type": "code",
   "execution_count": 93,
   "metadata": {
    "id": "_WVSAGATXDGi"
   },
   "outputs": [
    {
     "data": {
      "text/plain": [
       "0.7293333333333333"
      ]
     },
     "execution_count": 93,
     "metadata": {},
     "output_type": "execute_result"
    }
   ],
   "source": [
    "LogReg.fit(X_train_bow_norm, y_train)\n",
    "y_pred_norm = LogReg.predict(X_test_bow_norm)\n",
    "accuracy_score(y_test, y_pred_norm)"
   ]
  },
  {
   "cell_type": "code",
   "execution_count": 94,
   "metadata": {
    "id": "-DmgA_H-YVKZ"
   },
   "outputs": [
    {
     "data": {
      "text/plain": [
       "0.7586666666666667"
      ]
     },
     "execution_count": 94,
     "metadata": {},
     "output_type": "execute_result"
    }
   ],
   "source": [
    "SVM.fit(X_train_bow_norm, y_train)\n",
    "y_pred_norm2 = SVM.predict(X_test_bow_norm)\n",
    "accuracy_score(y_test, y_pred_norm2)"
   ]
  },
  {
   "cell_type": "markdown",
   "metadata": {},
   "source": [
    "**Вывод:** качество упало на LogReg, а на SVM практически не изменилось, это связано с тем, что регрессия более чувствительна к масштабированию, причем если признаки были нормальными (не нужно было масштабирование), то масштабирование ухудшает качество"
   ]
  },
  {
   "cell_type": "markdown",
   "metadata": {},
   "source": [
    "*Почему в данном случае использовать StandardScaler - не очень хорошая идея?*"
   ]
  },
  {
   "cell_type": "markdown",
   "metadata": {},
   "source": [
    "Использовать стандартизацию не очень хорошая идея, так как даже при масштабировании MaxAbsScaler стало хуже (оно не нужно, у нас все хорошо и так), который при этом загоняет все в (-1,1), а при стандартизации в (0,1) будет еще хуже"
   ]
  },
  {
   "cell_type": "markdown",
   "metadata": {},
   "source": [
    "# Иная предобработка (1 балл)\n",
    "\n",
    "Добавьте к предобработке стэмминг.\n",
    "\n",
    "Сравните полученное сейчас качество с полученным ранее и сделайте вывод."
   ]
  },
  {
   "cell_type": "markdown",
   "metadata": {},
   "source": [
    "Выберем Стемминг *SnowballStemmer*"
   ]
  },
  {
   "cell_type": "code",
   "execution_count": 95,
   "metadata": {},
   "outputs": [],
   "source": [
    "from nltk.stem.snowball import SnowballStemmer"
   ]
  },
  {
   "cell_type": "code",
   "execution_count": 96,
   "metadata": {},
   "outputs": [],
   "source": [
    "stemmer = SnowballStemmer('russian')"
   ]
  },
  {
   "cell_type": "code",
   "execution_count": 97,
   "metadata": {},
   "outputs": [],
   "source": [
    "X_all_stem = []\n",
    "for i in range(len(X_train)):\n",
    "    for w in X_train[i][0].split(' '):\n",
    "        X_all_stem.append(stemmer.stem(w))\n",
    "    for w in X_train[i][1].split(' '):\n",
    "        X_all_stem.append(stemmer.stem(w))"
   ]
  },
  {
   "cell_type": "code",
   "execution_count": 98,
   "metadata": {},
   "outputs": [],
   "source": [
    "tokens_cnt_1 = {}\n",
    "for token in X_all_stem:\n",
    "    try:\n",
    "        tokens_cnt_1.update({token: tokens_cnt_1[token] + 1})\n",
    "    except KeyError:\n",
    "        tokens_cnt_1.update({token: 1})"
   ]
  },
  {
   "cell_type": "code",
   "execution_count": 99,
   "metadata": {},
   "outputs": [
    {
     "data": {
      "text/plain": [
       "[('с', 12860),\n",
       " (':', 15098),\n",
       " ('./', 17639),\n",
       " ('на', 19492),\n",
       " ('и', 21719),\n",
       " ('в', 28337),\n",
       " ('-', 36840),\n",
       " ('.', 65624),\n",
       " (',', 79117),\n",
       " ('/', 85802)]"
      ]
     },
     "execution_count": 99,
     "metadata": {},
     "output_type": "execute_result"
    }
   ],
   "source": [
    "sorted(list(tokens_cnt_1.items()), key=lambda x: x[1])[-10:]"
   ]
  },
  {
   "cell_type": "code",
   "execution_count": 100,
   "metadata": {},
   "outputs": [],
   "source": [
    "new_dict_1 = {}\n",
    "tokens_list_1 =[]\n",
    "b = sorted(list(tokens_cnt_1.items()), key=lambda x: x[1])[-10000:]\n",
    "for para in b:\n",
    "    new_dict.update({para[0]: para[1]})\n",
    "    tokens_list_1.append(para[0])\n",
    "tokens_cnt_1 = new_dict_1"
   ]
  },
  {
   "cell_type": "code",
   "execution_count": 101,
   "metadata": {},
   "outputs": [],
   "source": [
    "def text_to(text: str, tokens_list: list) -> np.array:\n",
    "    list_return = np.zeros(len(tokens_list))\n",
    "    find_str = [stemmer.stem(w) for w in text.split()]\n",
    "    for element in find_str:\n",
    "        try:\n",
    "            list_return[tokens_list.index(element)] += 1\n",
    "        except ValueError:\n",
    "            pass   \n",
    "    return list_return \n",
    "\n",
    "def d_to_bow(items: np.array, tokens_list: list) -> np.array:\n",
    "    gg_bow = []\n",
    "    for i in range(len(items)):\n",
    "        gg_bow.append(text_to(items[i][1], tokens_list))\n",
    "    return np.asarray(gg_bow)\n",
    "\n",
    "def de_to_bow(items: np.array, tokens_list: list) -> np.array:\n",
    "    gg_bow0 = []\n",
    "    for i in range(len(items)):\n",
    "        gg_bow0.append(text_to(items[i][0], tokens_list))\n",
    "    return np.asarray(gg_bow0) + d_to_bow(items, tokens_list)"
   ]
  },
  {
   "cell_type": "code",
   "execution_count": 104,
   "metadata": {},
   "outputs": [],
   "source": [
    "X_train_lem = de_to_bow(X_train, tokens_list_1)"
   ]
  },
  {
   "cell_type": "code",
   "execution_count": 105,
   "metadata": {},
   "outputs": [],
   "source": [
    "X_test_lem = de_to_bow(X_test, tokens_list_1)"
   ]
  },
  {
   "cell_type": "code",
   "execution_count": 106,
   "metadata": {},
   "outputs": [],
   "source": [
    "X_train_lem = csr_matrix(X_train_lem)\n",
    "X_test_lem = csr_matrix(X_test_lem)"
   ]
  },
  {
   "cell_type": "code",
   "execution_count": 107,
   "metadata": {},
   "outputs": [
    {
     "data": {
      "text/plain": [
       "0.8036666666666666"
      ]
     },
     "execution_count": 107,
     "metadata": {},
     "output_type": "execute_result"
    }
   ],
   "source": [
    "LogReg.fit(X_train_lem, y_train)\n",
    "y_pred_lem = LogReg.predict(X_test_lem)\n",
    "accuracy_score(y_test, y_pred_lem)"
   ]
  },
  {
   "cell_type": "code",
   "execution_count": 108,
   "metadata": {},
   "outputs": [
    {
     "data": {
      "text/plain": [
       "0.7742222222222223"
      ]
     },
     "execution_count": 108,
     "metadata": {},
     "output_type": "execute_result"
    }
   ],
   "source": [
    "SVM.fit(X_train_lem, y_train)\n",
    "y_pred_lem2 = SVM.predict(X_test_lem)\n",
    "accuracy_score(y_test, y_pred_lem2)"
   ]
  },
  {
   "cell_type": "markdown",
   "metadata": {},
   "source": [
    "**Вывод:** Качество выросло! Это связано с тем, что стемминг работает не с полным словом, а с однокоренными (выбранный откидывает окончания и суффиксы), что, на самом деле, не влияет на наш результат (обычно однокоренные слова несут примерно один смысл), поэтому его лучше использовать для прогноза"
   ]
  },
  {
   "cell_type": "markdown",
   "metadata": {},
   "source": [
    "# TF-IDF (5 баллов)\n",
    "\n",
    "Не все слова полезны одинаково, давайте попробуем взвесить их, чтобы отобрать более полезные.\n",
    "\n",
    "TF(t) = (Number of times term t appears in a document) / (Total number of terms in the document).\n",
    "\n",
    "IDF(t) = log_e(Total number of documents / Number of documents with term t in it).\n",
    "\n",
    "В sklearn есть TfidfVectorizer, но в этом задании его использовать нельзя. Для простоты посчитайте общий tf-idf для 'title' и 'description' (то есть каждому объекту надо сопоставить вектор, где как документ будет рассматриваться конкатенация 'title' и 'description').\n",
    "\n",
    "## Задание: \n",
    "\n",
    "Cоставьте словарь, где каждому слову из изначального списка будет соответствовать количество документов из train-части, где это слово встретилось."
   ]
  },
  {
   "cell_type": "code",
   "execution_count": 109,
   "metadata": {},
   "outputs": [
    {
     "name": "stderr",
     "output_type": "stream",
     "text": [
      "100%|██████████████████████████████████████████████████████████████████████████| 21000/21000 [00:05<00:00, 3557.89it/s]\n"
     ]
    }
   ],
   "source": [
    "X_all_items = []\n",
    "for i in tqdm(range(len(X_train))):\n",
    "    X_all_items.append(X_all[2*i] + X_all[2*i+1])"
   ]
  },
  {
   "cell_type": "code",
   "execution_count": 110,
   "metadata": {},
   "outputs": [
    {
     "name": "stderr",
     "output_type": "stream",
     "text": [
      "100%|████████████████████████████████████████████████████████████████████████████| 10000/10000 [05:04<00:00, 41.34it/s]\n"
     ]
    }
   ],
   "source": [
    "word_document_cnt = {}\n",
    "for token in tqdm(tokens_list):\n",
    "    i = 0\n",
    "    for toks in X_all_items:\n",
    "        if token in toks:\n",
    "            i += 1\n",
    "    word_document_cnt.update({token: i})"
   ]
  },
  {
   "cell_type": "code",
   "execution_count": 111,
   "metadata": {},
   "outputs": [],
   "source": [
    "assert word_document_cnt['размер'] == 2839"
   ]
  },
  {
   "cell_type": "markdown",
   "metadata": {},
   "source": [
    "## Задание: \n",
    "реализуйте функцию, где тексту в соответствие ставится tf-idf вектор. Для вычисления IDF также необходимо число документов в train-части (параметр n_documents_total)."
   ]
  },
  {
   "cell_type": "code",
   "execution_count": 112,
   "metadata": {},
   "outputs": [],
   "source": [
    "def text_to_tfidf(text: str, word_document_cnt: dict, tokens_list: list, n_documents_total: int) -> np.array:\n",
    "    \"\"\"\n",
    "    Возвращает вектор, где для каждого слова из словаря\n",
    "    указан tf-idf\n",
    "    \"\"\"\n",
    "    vector_TF = np.zeros(len(tokens_list))\n",
    "    spisok = text.split(' ')\n",
    "    for i in spisok:\n",
    "        try:\n",
    "            TF = spisok.count(i) / len(spisok)\n",
    "            vector_TF[tokens_list.index(i)] = TF\n",
    "        except ValueError:\n",
    "            pass\n",
    "            \n",
    "    vector_IDF = np.zeros(len(tokens_list))\n",
    "    for i in spisok:\n",
    "        try:\n",
    "            IDF = np.log(n_documents_total / word_document_cnt[i])\n",
    "            vector_IDF[tokens_list.index(i)] = IDF\n",
    "        except KeyError or ValueError:\n",
    "            pass\n",
    "      \n",
    "    vector = np.zeros(len(tokens_list))\n",
    "    for i in range(len(tokens_list)):\n",
    "        vector[i] = vector_TF[i] * vector_IDF[i]\n",
    "    return vector"
   ]
  },
  {
   "cell_type": "code",
   "execution_count": 113,
   "metadata": {},
   "outputs": [],
   "source": [
    "example_text = text_to_tfidf(\n",
    "    'сдаётся уютный , тёплый гараж для стартапов в ml',\n",
    "    word_document_cnt,\n",
    "    tokens_list,\n",
    "    n_documents_total=len(X_train)\n",
    ")\n",
    "assert 0.0003 < example_text.mean() < 0.0004"
   ]
  },
  {
   "cell_type": "markdown",
   "metadata": {},
   "source": [
    "## Задание: \n",
    "а теперь реализуйте функцию, которая преобразует наш датасет и для каждого объекта сопоставляет вектор tf-idf. В качестве текстов используйте конкатенацию 'title' и 'description'"
   ]
  },
  {
   "cell_type": "code",
   "execution_count": 116,
   "metadata": {},
   "outputs": [],
   "source": [
    "def items_to_tfidf(items: np.array, word_document_cnt: dict, tokens_list: list, n_documents_total: int) -> np.array:\n",
    "    \"\"\"\n",
    "    Для каждого товара возвращает его tf-idf вектор\n",
    "    \"\"\"\n",
    "    respek = []\n",
    "    tf_idf_respek = []\n",
    "    for i in range(len(items)):\n",
    "        respek.append(items[i][0] + ' ' + items[i][1])\n",
    "    for i in range(len(items)):\n",
    "        tf_idf_respek.append(text_to_tfidf(respek[i], word_document_cnt, tokens_list, n_documents_total))\n",
    "    return np.asarray(tf_idf_respek)"
   ]
  },
  {
   "cell_type": "code",
   "execution_count": 117,
   "metadata": {},
   "outputs": [],
   "source": [
    "X_train_tfidf = items_to_tfidf(X_train, word_document_cnt, tokens_list, len(X_train))"
   ]
  },
  {
   "cell_type": "code",
   "execution_count": 118,
   "metadata": {},
   "outputs": [],
   "source": [
    "X_test_tfidf = items_to_tfidf(X_test, word_document_cnt, tokens_list, len(X_train))"
   ]
  },
  {
   "cell_type": "code",
   "execution_count": 119,
   "metadata": {},
   "outputs": [],
   "source": [
    "from sklearn.preprocessing import MaxAbsScaler\n",
    "scaler = MaxAbsScaler()\n",
    "X_train_tfidf_norm = scaler.fit_transform(X_train_tfidf)\n",
    "X_test_tfidf_norm = scaler.fit_transform(X_test_tfidf)"
   ]
  },
  {
   "cell_type": "code",
   "execution_count": 120,
   "metadata": {},
   "outputs": [],
   "source": [
    "assert X_train_tfidf.shape == (21000, 10000) \n",
    "assert X_test_tfidf.shape == (9000, 10000)\n",
    "assert 0.0002 < X_train_tfidf.mean() < 0.0004\n",
    "assert 0.0002 < X_test_tfidf.mean() < 0.0004"
   ]
  },
  {
   "cell_type": "markdown",
   "metadata": {},
   "source": [
    "## Задание: \n",
    "обучите логистическую регрессию и SVC, оцените качество (accuracy_score). Сделайте вывод."
   ]
  },
  {
   "cell_type": "code",
   "execution_count": 121,
   "metadata": {},
   "outputs": [],
   "source": [
    "X_train_tfidf_norm = csr_matrix(X_train_tfidf_norm)\n",
    "X_test_tfidf_norm = csr_matrix(X_test_tfidf_norm)"
   ]
  },
  {
   "cell_type": "code",
   "execution_count": 122,
   "metadata": {},
   "outputs": [],
   "source": [
    "X_train_tfidf = csr_matrix(X_train_tfidf)\n",
    "X_test_tfidf = csr_matrix(X_test_tfidf)"
   ]
  },
  {
   "cell_type": "code",
   "execution_count": 123,
   "metadata": {},
   "outputs": [
    {
     "name": "stderr",
     "output_type": "stream",
     "text": [
      "C:\\anaconda\\lib\\site-packages\\sklearn\\linear_model\\logistic.py:432: FutureWarning: Default solver will be changed to 'lbfgs' in 0.22. Specify a solver to silence this warning.\n",
      "  FutureWarning)\n",
      "C:\\anaconda\\lib\\site-packages\\sklearn\\linear_model\\logistic.py:469: FutureWarning: Default multi_class will be changed to 'auto' in 0.22. Specify the multi_class option to silence this warning.\n",
      "  \"this warning.\", FutureWarning)\n"
     ]
    },
    {
     "data": {
      "text/plain": [
       "0.7183333333333334"
      ]
     },
     "execution_count": 123,
     "metadata": {},
     "output_type": "execute_result"
    }
   ],
   "source": [
    "LogReg.fit(X_train_tfidf_norm, y_train)\n",
    "y_pred_tfidf = LogReg.predict(X_test_tfidf_norm)\n",
    "accuracy_score(y_test, y_pred_tfidf)"
   ]
  },
  {
   "cell_type": "code",
   "execution_count": 124,
   "metadata": {},
   "outputs": [],
   "source": [
    "assert accuracy_score(y_test, y_pred_tfidf) > 0.675"
   ]
  },
  {
   "cell_type": "code",
   "execution_count": 125,
   "metadata": {},
   "outputs": [
    {
     "data": {
      "text/plain": [
       "0.7954444444444444"
      ]
     },
     "execution_count": 125,
     "metadata": {},
     "output_type": "execute_result"
    }
   ],
   "source": [
    "SVM.fit(X_train_tfidf, y_train)\n",
    "y_pred_tfidf2 = SVM.predict(X_test_tfidf)\n",
    "accuracy_score(y_test, y_pred_tfidf2)"
   ]
  },
  {
   "cell_type": "code",
   "execution_count": 126,
   "metadata": {},
   "outputs": [],
   "source": [
    "assert accuracy_score(y_test, y_pred_tfidf2) > 0.79"
   ]
  },
  {
   "cell_type": "markdown",
   "metadata": {},
   "source": [
    "**Вывод:** Качество в этом методе относительно Bow заметно улучшилась, так как он лучше оценивает значимость слов"
   ]
  },
  {
   "cell_type": "markdown",
   "metadata": {},
   "source": [
    "# Word Vectors (4 балла)\n",
    "\n",
    "Давайте попробуем другой подход -- каждому слову сопоставим какое-то векторное представление (эмбеддинг) - но достаточно маленькой размерности. Таким образом мы сильно уменьшим количество параметров в модели.\n",
    "\n",
    "Почитать про это подробнее можно тут:\n",
    "\n",
    "https://habr.com/ru/company/ods/blog/329410/\n",
    "Вектора мы возьмём уже готовые (обученные на текстах из интернета), так что наша модель будет знать некоторую дополнительную информацию о внешнем мире."
   ]
  },
  {
   "cell_type": "code",
   "execution_count": 127,
   "metadata": {},
   "outputs": [
    {
     "name": "stdout",
     "output_type": "stream",
     "text": [
      "Requirement already satisfied: gensim in c:\\anaconda\\lib\\site-packages (3.8.2)\n",
      "Requirement already satisfied: smart-open>=1.8.1 in c:\\anaconda\\lib\\site-packages (from gensim) (1.11.1)\n",
      "Requirement already satisfied: six>=1.5.0 in c:\\anaconda\\lib\\site-packages (from gensim) (1.12.0)\n",
      "Requirement already satisfied: numpy>=1.11.3 in c:\\anaconda\\lib\\site-packages (from gensim) (1.16.4)\n",
      "Requirement already satisfied: scipy>=1.0.0 in c:\\anaconda\\lib\\site-packages (from gensim) (1.2.1)\n",
      "Requirement already satisfied: boto3 in c:\\anaconda\\lib\\site-packages (from smart-open>=1.8.1->gensim) (1.12.41)\n",
      "Requirement already satisfied: boto in c:\\anaconda\\lib\\site-packages (from smart-open>=1.8.1->gensim) (2.49.0)\n",
      "Requirement already satisfied: requests in c:\\anaconda\\lib\\site-packages (from smart-open>=1.8.1->gensim) (2.22.0)\n",
      "Requirement already satisfied: jmespath<1.0.0,>=0.7.1 in c:\\anaconda\\lib\\site-packages (from boto3->smart-open>=1.8.1->gensim) (0.9.5)\n",
      "Requirement already satisfied: botocore<1.16.0,>=1.15.41 in c:\\anaconda\\lib\\site-packages (from boto3->smart-open>=1.8.1->gensim) (1.15.41)\n",
      "Requirement already satisfied: s3transfer<0.4.0,>=0.3.0 in c:\\anaconda\\lib\\site-packages (from boto3->smart-open>=1.8.1->gensim) (0.3.3)\n",
      "Requirement already satisfied: certifi>=2017.4.17 in c:\\anaconda\\lib\\site-packages (from requests->smart-open>=1.8.1->gensim) (2019.6.16)\n",
      "Requirement already satisfied: chardet<3.1.0,>=3.0.2 in c:\\anaconda\\lib\\site-packages (from requests->smart-open>=1.8.1->gensim) (3.0.4)\n",
      "Requirement already satisfied: idna<2.9,>=2.5 in c:\\anaconda\\lib\\site-packages (from requests->smart-open>=1.8.1->gensim) (2.8)\n",
      "Requirement already satisfied: urllib3!=1.25.0,!=1.25.1,<1.26,>=1.21.1 in c:\\anaconda\\lib\\site-packages (from requests->smart-open>=1.8.1->gensim) (1.24.2)\n",
      "Requirement already satisfied: python-dateutil<3.0.0,>=2.1 in c:\\anaconda\\lib\\site-packages (from botocore<1.16.0,>=1.15.41->boto3->smart-open>=1.8.1->gensim) (2.8.0)\n",
      "Requirement already satisfied: docutils<0.16,>=0.10 in c:\\anaconda\\lib\\site-packages (from botocore<1.16.0,>=1.15.41->boto3->smart-open>=1.8.1->gensim) (0.14)\n"
     ]
    }
   ],
   "source": [
    "!pip install gensim"
   ]
  },
  {
   "cell_type": "code",
   "execution_count": 128,
   "metadata": {},
   "outputs": [],
   "source": [
    "import gensim\n",
    "from gensim.models.wrappers import FastText\n",
    "\n",
    "embedding_model = FastText.load_fasttext_format('ru.bin')"
   ]
  },
  {
   "cell_type": "code",
   "execution_count": 129,
   "metadata": {},
   "outputs": [
    {
     "name": "stdout",
     "output_type": "stream",
     "text": [
      "(300,)\n",
      "[ 0.02916384  0.02167605  0.05127367 -0.00971958  0.0465235  -0.03945766\n",
      "  0.02737866  0.00638128 -0.03774629 -0.04257201 -0.00995653  0.02291315\n",
      " -0.02301722  0.06697998 -0.03674482 -0.02403202 -0.05404469  0.01372932\n",
      "  0.00926399 -0.0013149   0.11941359 -0.022448    0.04011497  0.06980549\n",
      "  0.00407011 -0.09384539  0.03050164 -0.02578281 -0.03525181 -0.06603175\n",
      "  0.04752798  0.05874675  0.01983666  0.06092105 -0.00957561  0.08307806\n",
      " -0.01288903  0.04705157  0.02198839 -0.00649013 -0.0171444   0.03302203\n",
      "  0.02124882 -0.01902875 -0.05235172  0.03458685 -0.01409259 -0.07477519\n",
      "  0.01916078  0.02985001  0.0086322   0.03051201  0.02831862  0.04549561\n",
      "  0.00761138 -0.05459622  0.09056009 -0.08807947 -0.05420396 -0.04793203\n",
      " -0.05672329 -0.03025264 -0.03024072 -0.05890108 -0.03137474  0.03292617\n",
      "  0.05440779 -0.04548327 -0.07266086 -0.09327219  0.07247883  0.0111061\n",
      "  0.01824225 -0.10570452  0.05110046 -0.04659343 -0.03277056 -0.00803401\n",
      " -0.03978698  0.00826598 -0.01074128  0.018431   -0.10150263 -0.00472604\n",
      "  0.06706332  0.02466901  0.09045192 -0.05226929  0.04866098 -0.02843297\n",
      "  0.04756537  0.00261342  0.06845197  0.00082511 -0.00547984  0.0100649\n",
      "  0.02135489 -0.01437242  0.00191435  0.11989547  0.02357679  0.07061605\n",
      "  0.03375214  0.05462346  0.08270866  0.00126649  0.03054527  0.04314573\n",
      " -0.00719835 -0.02799017  0.00249404  0.00139046 -0.04099929  0.00526204\n",
      "  0.01386764  0.02106066  0.00887202  0.05943111 -0.07185322  0.03263306\n",
      "  0.00284878  0.03816929  0.0210096  -0.030828    0.00502779  0.09250114\n",
      "  0.02399154  0.05744717 -0.04319151  0.04075926 -0.03877947  0.0605263\n",
      " -0.00837917 -0.04922852 -0.04570796  0.02973622 -0.01798053  0.00413011\n",
      " -0.00712464 -0.01312802  0.05847022 -0.07881333 -0.02204878  0.03086594\n",
      "  0.02965177 -0.0073295  -0.02443145 -0.06222062  0.01083152  0.06009534\n",
      " -0.02042049  0.06301811  0.02287635 -0.03021961  0.04831248  0.02882019\n",
      "  0.04446645 -0.01677353 -0.08272323 -0.06830658  0.08947854  0.03370909\n",
      " -0.00895046 -0.00681254 -0.02059644 -0.09527113  0.02611189 -0.06112244\n",
      "  0.01080315  0.01901113  0.00810233  0.00742132  0.10493557 -0.00522375\n",
      "  0.05826566  0.03236291  0.03787734 -0.05026894 -0.08401242  0.02860721\n",
      " -0.05106218  0.02631241  0.02631763  0.06924202  0.03319636  0.00980412\n",
      "  0.04016861  0.03428936  0.00652957 -0.01058654 -0.0245588   0.1464914\n",
      " -0.01041028  0.03553488 -0.07482928 -0.01063148 -0.0342233  -0.01662586\n",
      " -0.00029508  0.04694034 -0.00062491 -0.0435293  -0.01315623  0.07061336\n",
      "  0.01603698  0.02374655  0.05453315  0.00253603 -0.0313729  -0.02740866\n",
      "  0.04278845 -0.00810288  0.03973977  0.07674816  0.04658518 -0.02685211\n",
      " -0.05009724  0.0060723  -0.04231661  0.02584185 -0.03419575 -0.03799306\n",
      "  0.06701688 -0.1245426   0.03846397 -0.0855662  -0.01193651  0.04968415\n",
      "  0.03559558  0.10029506  0.05714916  0.01145345 -0.03564315 -0.00924199\n",
      "  0.08630151  0.08049053  0.05822275 -0.05224873 -0.02462301  0.05832206\n",
      " -0.04124978  0.00186134  0.00782246  0.01179015 -0.02291097  0.00614069\n",
      "  0.01782681  0.02190027  0.04341367  0.06151633 -0.01183114 -0.00141502\n",
      "  0.06193598  0.0611085  -0.02373199 -0.05797793 -0.02269631  0.11511736\n",
      " -0.04581353 -0.05082048 -0.04706197  0.0429772   0.00409648 -0.0141248\n",
      "  0.01417164  0.00575812 -0.07616108 -0.01051838  0.05149659  0.02367133\n",
      "  0.00073724  0.05957585 -0.11871962  0.03876314  0.03472188 -0.02344368\n",
      " -0.01165281 -0.01397923  0.08815268  0.03459521  0.07113555 -0.03984846\n",
      " -0.01600395  0.01932258  0.01351069 -0.06409036 -0.02024848  0.05895981\n",
      "  0.02591374 -0.04027611  0.00654722  0.05093394 -0.02461737  0.02561689\n",
      " -0.01412898 -0.00366109 -0.06719207  0.00742674 -0.02095614 -0.06263787]\n"
     ]
    }
   ],
   "source": [
    "# как мы видим, каждому слову данная модель сопоставляет вектор размерности 300\n",
    "\n",
    "print(embedding_model['привет'].shape)\n",
    "print(embedding_model['привет'])"
   ]
  },
  {
   "cell_type": "markdown",
   "metadata": {},
   "source": [
    "## Задание: \n",
    "реализуйте функцию, выдающую эмбеддинг для предложения - как сумму эмбеддингов токенов."
   ]
  },
  {
   "cell_type": "code",
   "execution_count": 130,
   "metadata": {},
   "outputs": [],
   "source": [
    "def sentence_embedding(sentence: str, embedding_model) -> np.array:\n",
    "    \"\"\"\n",
    "    Складывает вектора токенов строки sentence\n",
    "    \"\"\"\n",
    "    dim = embedding_model['привет'].shape[0]\n",
    "    vector_embd = np.zeros(dim)\n",
    "    for token in tokenizer.tokenize(sentence):\n",
    "        if token in embedding_model:\n",
    "            vector_embd += embedding_model[token]\n",
    "    return vector_embd"
   ]
  },
  {
   "cell_type": "code",
   "execution_count": 131,
   "metadata": {},
   "outputs": [],
   "source": [
    "assert sentence_embedding('сдаётся уютный , тёплый гараж для стартапов в ml', embedding_model).shape == (300,)\n",
    "assert np.allclose(np.linalg.norm(sentence_embedding('сдаётся уютный , тёплый гараж для стартапов в ml', embedding_model)), 2.6764746)"
   ]
  },
  {
   "cell_type": "markdown",
   "metadata": {},
   "source": [
    "## Задание:\n",
    "сделайте все то же, что в предыдущих пунктах -- реализуйте функцию, которая преобразует данные, а затем обучите логистическую регрессию и SVM, оцените качество. Сделайте вывод, что работает лучше - модель, основанная на TF-IDF, или модель, обученная на предобученных эмбеддингах?"
   ]
  },
  {
   "cell_type": "code",
   "execution_count": 132,
   "metadata": {},
   "outputs": [],
   "source": [
    "def items_to_embed(items: np.array) -> np.array:\n",
    "    \"\"\"\n",
    "    Для каждого товара возвращает его embedding вектор\n",
    "    \"\"\"\n",
    "    narek = []\n",
    "    embed_narek = []\n",
    "    for i in range(len(items)):\n",
    "        narek.append(items[i][0] + ' ' + items[i][1])\n",
    "    for i in range(len(items)):\n",
    "        embed_narek.append(sentence_embedding(narek[i], embedding_model))\n",
    "    return np.asarray(embed_narek)"
   ]
  },
  {
   "cell_type": "code",
   "execution_count": 133,
   "metadata": {},
   "outputs": [],
   "source": [
    "X_train_embed = items_to_embed(X_train)"
   ]
  },
  {
   "cell_type": "code",
   "execution_count": 134,
   "metadata": {},
   "outputs": [],
   "source": [
    "X_test_embed = items_to_embed(X_test)"
   ]
  },
  {
   "cell_type": "code",
   "execution_count": 135,
   "metadata": {},
   "outputs": [],
   "source": [
    "X_train_embed_norm = scaler.fit_transform(X_train_embed)\n",
    "X_test_embed_norm = scaler.fit_transform(X_test_embed)"
   ]
  },
  {
   "cell_type": "code",
   "execution_count": 136,
   "metadata": {},
   "outputs": [],
   "source": [
    "X_train_embed = csr_matrix(X_train_embed)\n",
    "X_test_embed = csr_matrix(X_test_embed)"
   ]
  },
  {
   "cell_type": "code",
   "execution_count": 137,
   "metadata": {},
   "outputs": [],
   "source": [
    "X_train_embed_norm = csr_matrix(X_train_embed_norm)\n",
    "X_test_embed_norm = csr_matrix(X_test_embed_norm)"
   ]
  },
  {
   "cell_type": "code",
   "execution_count": 138,
   "metadata": {},
   "outputs": [
    {
     "name": "stderr",
     "output_type": "stream",
     "text": [
      "C:\\anaconda\\lib\\site-packages\\sklearn\\linear_model\\logistic.py:432: FutureWarning: Default solver will be changed to 'lbfgs' in 0.22. Specify a solver to silence this warning.\n",
      "  FutureWarning)\n",
      "C:\\anaconda\\lib\\site-packages\\sklearn\\linear_model\\logistic.py:469: FutureWarning: Default multi_class will be changed to 'auto' in 0.22. Specify the multi_class option to silence this warning.\n",
      "  \"this warning.\", FutureWarning)\n"
     ]
    },
    {
     "data": {
      "text/plain": [
       "0.5782222222222222"
      ]
     },
     "execution_count": 138,
     "metadata": {},
     "output_type": "execute_result"
    }
   ],
   "source": [
    "LogReg.fit(X_train_embed, y_train)\n",
    "y_pred_embed = LogReg.predict(X_test_embed)\n",
    "accuracy_score(y_test, y_pred_embed)"
   ]
  },
  {
   "cell_type": "code",
   "execution_count": 139,
   "metadata": {},
   "outputs": [
    {
     "name": "stderr",
     "output_type": "stream",
     "text": [
      "C:\\anaconda\\lib\\site-packages\\sklearn\\svm\\base.py:929: ConvergenceWarning: Liblinear failed to converge, increase the number of iterations.\n",
      "  \"the number of iterations.\", ConvergenceWarning)\n"
     ]
    },
    {
     "data": {
      "text/plain": [
       "0.5723333333333334"
      ]
     },
     "execution_count": 139,
     "metadata": {},
     "output_type": "execute_result"
    }
   ],
   "source": [
    "SVM.fit(X_train_embed, y_train)\n",
    "y_pred_embed2 = SVM.predict(X_test_embed)\n",
    "accuracy_score(y_test, y_pred_embed2)"
   ]
  },
  {
   "cell_type": "markdown",
   "metadata": {},
   "source": [
    "**Вывод:** Качество в эмбеддинге заметно упала относительно tf-idf, так как в этом случае меньше слов и они не подстраивются под особенности выборки, то есть там какие-то рандомные слова, которые для модели имеют неверные для реальности показатели"
   ]
  },
  {
   "cell_type": "markdown",
   "metadata": {},
   "source": [
    "\n",
    "# Что дальше? (8 баллов)\n",
    "\n",
    "**1**. Реализовать n-gram модели текстовой классификации (2 балла)\n",
    "\n",
    "**2**. Поработать с другими эмбеддингами для слов (например word2vec или GloVe) (2 балла)\n",
    "\n",
    "**3**. Применить другие способы токенизации (например, pymorphy2, spaCy) и в целом предобработки данных (стоп-слова, стэмминг, лемматизация) (2 балла)\n",
    "\n",
    "**4**. Добиться качества > 0.81 на тестовых данных (попробуйте другие токенизаторы, предобработку текста, и любые другие идеи, которые вам придут в голову) (1 балл)\n",
    "\n",
    "**5**. Добиться качества > 0.82 на тестовых данных (попробуйте другие токенизаторы, предобработку текста, и любые другие идеи, которые вам придут в голову) (1 балл)"
   ]
  },
  {
   "cell_type": "markdown",
   "metadata": {},
   "source": [
    "# 1"
   ]
  },
  {
   "cell_type": "code",
   "execution_count": 140,
   "metadata": {},
   "outputs": [],
   "source": [
    "from sklearn.metrics import classification_report\n",
    "from sklearn.model_selection import train_test_split\n",
    "from sklearn.pipeline import Pipeline\n",
    "from sklearn.feature_extraction.text import CountVectorizer\n",
    "from nltk import ngrams"
   ]
  },
  {
   "cell_type": "code",
   "execution_count": 141,
   "metadata": {},
   "outputs": [
    {
     "data": {
      "text/plain": [
       "['сапоги 46 размер новые', 'сапоги 46 размер новые']"
      ]
     },
     "execution_count": 141,
     "metadata": {},
     "output_type": "execute_result"
    }
   ],
   "source": [
    "X_train[0]"
   ]
  },
  {
   "cell_type": "code",
   "execution_count": 142,
   "metadata": {},
   "outputs": [],
   "source": [
    "X_train_stroka = []\n",
    "for i in range(len(X_train)):\n",
    "    X_train_stroka.append(X_train[i][0] + ' ' + X_train[i][1])"
   ]
  },
  {
   "cell_type": "code",
   "execution_count": 143,
   "metadata": {},
   "outputs": [],
   "source": [
    "X_test_stroka = []\n",
    "for i in range(len(X_test)):\n",
    "    X_test_stroka.append(X_test[i][0] + ' ' + X_test[i][1])"
   ]
  },
  {
   "cell_type": "markdown",
   "metadata": {},
   "source": [
    "Посчитаем качество моделей униграмм, биграмм, триграмм в LogReg и SVM"
   ]
  },
  {
   "cell_type": "code",
   "execution_count": 144,
   "metadata": {},
   "outputs": [],
   "source": [
    "vec1 = CountVectorizer(ngram_range=(1, 1))\n",
    "vec2 = CountVectorizer(ngram_range=(2, 2))\n",
    "vec3 = CountVectorizer(ngram_range=(3, 3))\n",
    "vec12 = CountVectorizer(ngram_range=(1, 2))\n",
    "vec23 = CountVectorizer(ngram_range=(2, 3))\n",
    "vec13 = CountVectorizer(ngram_range=(1, 3))"
   ]
  },
  {
   "cell_type": "code",
   "execution_count": 145,
   "metadata": {},
   "outputs": [],
   "source": [
    "bow1 = vec1.fit_transform(X_train_stroka)\n",
    "bow2 = vec2.fit_transform(X_train_stroka)\n",
    "bow3 = vec3.fit_transform(X_train_stroka)\n",
    "bow12 = vec12.fit_transform(X_train_stroka)\n",
    "bow23 = vec23.fit_transform(X_train_stroka)\n",
    "bow13 = vec13.fit_transform(X_train_stroka)"
   ]
  },
  {
   "cell_type": "code",
   "execution_count": 146,
   "metadata": {},
   "outputs": [],
   "source": [
    "test1 = vec1.transform(X_test_stroka)\n",
    "test2 = vec2.transform(X_test_stroka)\n",
    "test3 = vec3.transform(X_test_stroka)\n",
    "test12 = vec12.transform(X_test_stroka)\n",
    "test13 = vec13.transform(X_test_stroka)\n",
    "test23 = vec23.transform(X_test_stroka)"
   ]
  },
  {
   "cell_type": "code",
   "execution_count": 147,
   "metadata": {},
   "outputs": [],
   "source": [
    "LogReg.fit(bow1, y_train)\n",
    "prediction_1_1 = LogReg.predict(test1)\n",
    "t11 = accuracy_score(y_test, prediction_1_1)"
   ]
  },
  {
   "cell_type": "code",
   "execution_count": 148,
   "metadata": {},
   "outputs": [],
   "source": [
    "SVM.fit(bow1, y_train)\n",
    "prediction_1_2 = SVM.predict(test1)\n",
    "t12 = accuracy_score(y_test, prediction_1_2)"
   ]
  },
  {
   "cell_type": "code",
   "execution_count": 149,
   "metadata": {},
   "outputs": [],
   "source": [
    "LogReg.fit(bow2, y_train)\n",
    "prediction_2_1 = LogReg.predict(test2)\n",
    "t21 = accuracy_score(y_test, prediction_2_1)"
   ]
  },
  {
   "cell_type": "code",
   "execution_count": 150,
   "metadata": {},
   "outputs": [],
   "source": [
    "SVM.fit(bow2, y_train)\n",
    "prediction_2_2 = SVM.predict(test2)\n",
    "t22 = accuracy_score(y_test, prediction_2_2)"
   ]
  },
  {
   "cell_type": "code",
   "execution_count": 151,
   "metadata": {},
   "outputs": [],
   "source": [
    "LogReg.fit(bow3, y_train)\n",
    "prediction_3_1 = LogReg.predict(test3)\n",
    "t31 = accuracy_score(y_test, prediction_3_1)"
   ]
  },
  {
   "cell_type": "code",
   "execution_count": 152,
   "metadata": {},
   "outputs": [],
   "source": [
    "SVM.fit(bow3, y_train)\n",
    "prediction_3_2 = SVM.predict(test3)\n",
    "t32 = accuracy_score(y_test, prediction_3_2)"
   ]
  },
  {
   "cell_type": "code",
   "execution_count": 153,
   "metadata": {},
   "outputs": [],
   "source": [
    "LogReg.fit(bow12, y_train)\n",
    "prediction_12_1 = LogReg.predict(test12)\n",
    "t121 = accuracy_score(y_test, prediction_12_1)"
   ]
  },
  {
   "cell_type": "code",
   "execution_count": 154,
   "metadata": {},
   "outputs": [],
   "source": [
    "SVM.fit(bow12, y_train)\n",
    "prediction_12_2 = SVM.predict(test12)\n",
    "t122 = accuracy_score(y_test, prediction_12_2)"
   ]
  },
  {
   "cell_type": "code",
   "execution_count": 155,
   "metadata": {},
   "outputs": [],
   "source": [
    "LogReg.fit(bow23, y_train)\n",
    "prediction_23_1 = LogReg.predict(test23)\n",
    "t231 = accuracy_score(y_test, prediction_23_1)"
   ]
  },
  {
   "cell_type": "code",
   "execution_count": 156,
   "metadata": {},
   "outputs": [],
   "source": [
    "SVM.fit(bow23, y_train)\n",
    "prediction_23_2 = SVM.predict(test23)\n",
    "t232 = accuracy_score(y_test, prediction_23_2)"
   ]
  },
  {
   "cell_type": "code",
   "execution_count": 157,
   "metadata": {},
   "outputs": [],
   "source": [
    "LogReg.fit(bow13, y_train)\n",
    "prediction_13_1 = LogReg.predict(test13)\n",
    "t131 = accuracy_score(y_test, prediction_13_1)"
   ]
  },
  {
   "cell_type": "code",
   "execution_count": 158,
   "metadata": {},
   "outputs": [],
   "source": [
    "SVM.fit(bow13, y_train)\n",
    "prediction_13_2 = SVM.predict(test13)\n",
    "t132 = accuracy_score(y_test, prediction_13_2)"
   ]
  },
  {
   "cell_type": "code",
   "execution_count": 159,
   "metadata": {},
   "outputs": [],
   "source": [
    "import numpy as np\n",
    "import pandas as pd\n",
    "import matplotlib.pyplot as plt"
   ]
  },
  {
   "cell_type": "code",
   "execution_count": 160,
   "metadata": {},
   "outputs": [],
   "source": [
    "df1 = pd.DataFrame([{1: t11,2: t21, 3: t31}])\n",
    "df2 = pd.DataFrame([{1: t12,2: t22, 3: t32}])\n",
    "df12 = pd.DataFrame([{1: t131,2: t121, 3: t231}])\n",
    "df22 = pd.DataFrame([{1: t132,2: t122, 3: t232}])"
   ]
  },
  {
   "cell_type": "code",
   "execution_count": 161,
   "metadata": {},
   "outputs": [
    {
     "data": {
      "image/png": "[encoded data removed]",
      "text/plain": [
       "<Figure size 1080x360 with 2 Axes>"
      ]
     },
     "metadata": {
      "needs_background": "light"
     },
     "output_type": "display_data"
    }
   ],
   "source": [
    "fig, ax = plt.subplots(1, 2, sharex='col', sharey='row', figsize=(15, 5))\n",
    "\n",
    "ax[0].scatter(x = np.asarray(df1.columns), y = np.asarray(df1)[0])\n",
    "ax[0].plot(np.asarray(df1.columns), np.asarray(df1)[0])\n",
    "ax[1].scatter(x = np.asarray(df2.columns), y = np.asarray(df2)[0])\n",
    "ax[1].plot(np.asarray(df2.columns), np.asarray(df2)[0])\n",
    "ax[0].set_title('LogReg')\n",
    "ax[1].set_title('SVM')\n",
    "fig.suptitle('Accurancy (униграммы, биграммы, триграммы)')\n",
    "plt.show()"
   ]
  },
  {
   "cell_type": "markdown",
   "metadata": {},
   "source": [
    "Посчитав качество для отдельных n-грамм, следует, что более точными являются униграммы, что логично, так как учитывают значимость каждого слова (это верно и для LogReg, и для SVM)"
   ]
  },
  {
   "cell_type": "code",
   "execution_count": 162,
   "metadata": {},
   "outputs": [
    {
     "data": {
      "image/png": "[encoded data removed]",
      "text/plain": [
       "<Figure size 1080x360 with 2 Axes>"
      ]
     },
     "metadata": {
      "needs_background": "light"
     },
     "output_type": "display_data"
    }
   ],
   "source": [
    "fig, ax = plt.subplots(1, 2, sharex='col', sharey='row', figsize=(15, 5))\n",
    "\n",
    "ax[0].scatter(x = np.asarray(df12.columns), y = np.asarray(df12)[0])\n",
    "ax[0].plot(np.asarray(df12.columns), np.asarray(df12)[0])\n",
    "ax[1].scatter(x = np.asarray(df22.columns), y = np.asarray(df22)[0])\n",
    "ax[1].plot(np.asarray(df22.columns), np.asarray(df22)[0])\n",
    "ax[0].set_title('LogReg')\n",
    "ax[1].set_title('SVM')\n",
    "fig.suptitle('Accurancy (1 - все сразу, 2 - униграммы и биграммы, 3 - биграммы и триграммы)')\n",
    "plt.show()"
   ]
  },
  {
   "cell_type": "markdown",
   "metadata": {},
   "source": [
    "Посмотрев на разлчиные комбинации видно, что там, где используются униграммы, там качество лучше. \n",
    "\n",
    "Но тем не менее самое лучшее качество у отдельных униграмм в LogReg"
   ]
  },
  {
   "cell_type": "markdown",
   "metadata": {},
   "source": [
    "# 2"
   ]
  },
  {
   "cell_type": "markdown",
   "metadata": {},
   "source": [
    "Попробуем Word2Vec эмбеддинг"
   ]
  },
  {
   "cell_type": "code",
   "execution_count": 163,
   "metadata": {},
   "outputs": [
    {
     "data": {
      "text/plain": [
       "['сапоги', '46', 'размер', 'новые', 'сапоги', '46', 'размер', 'новые']"
      ]
     },
     "execution_count": 163,
     "metadata": {},
     "output_type": "execute_result"
    }
   ],
   "source": [
    "X_all_items[0]"
   ]
  },
  {
   "cell_type": "code",
   "execution_count": 164,
   "metadata": {},
   "outputs": [],
   "source": [
    "from gensim.models.word2vec import Word2Vec"
   ]
  },
  {
   "cell_type": "code",
   "execution_count": 165,
   "metadata": {},
   "outputs": [],
   "source": [
    "model = Word2Vec(X_all_items, min_count = 1)"
   ]
  },
  {
   "cell_type": "code",
   "execution_count": 166,
   "metadata": {},
   "outputs": [],
   "source": [
    "def sentence_embedding(sentence: str, embedding_model) -> np.array:\n",
    "    \"\"\"\n",
    "    Складывает вектора токенов строки sentence\n",
    "    \"\"\"\n",
    "    dim = embedding_model['привет'].shape[0]\n",
    "    vector_embd = np.zeros(dim)\n",
    "    for token in tokenizer.tokenize(sentence):\n",
    "        if token in embedding_model:\n",
    "            vector_embd += embedding_model[token]\n",
    "    return vector_embd\n",
    "def items_to_embed_w2v(items: np.array, embedding_model) -> np.array:\n",
    "    \"\"\"\n",
    "    Для каждого товара возвращает его embedding вектор\n",
    "    \"\"\"\n",
    "    narek = []\n",
    "    embed_narek = []\n",
    "    for i in range(len(items)):\n",
    "        narek.append(items[i][0] + ' ' + items[i][1])\n",
    "    for i in range(len(items)):\n",
    "        embed_narek.append(sentence_embedding(narek[i], embedding_model))\n",
    "    return np.asarray(embed_narek)"
   ]
  },
  {
   "cell_type": "code",
   "execution_count": 167,
   "metadata": {},
   "outputs": [
    {
     "name": "stderr",
     "output_type": "stream",
     "text": [
      "C:\\anaconda\\lib\\site-packages\\ipykernel_launcher.py:5: DeprecationWarning: Call to deprecated `__getitem__` (Method will be removed in 4.0.0, use self.wv.__getitem__() instead).\n",
      "  \"\"\"\n",
      "C:\\anaconda\\lib\\site-packages\\ipykernel_launcher.py:8: DeprecationWarning: Call to deprecated `__contains__` (Method will be removed in 4.0.0, use self.wv.__contains__() instead).\n",
      "  \n",
      "C:\\anaconda\\lib\\site-packages\\ipykernel_launcher.py:9: DeprecationWarning: Call to deprecated `__getitem__` (Method will be removed in 4.0.0, use self.wv.__getitem__() instead).\n",
      "  if __name__ == '__main__':\n"
     ]
    }
   ],
   "source": [
    "X_train_embed_w2v = items_to_embed_w2v(X_train, model)"
   ]
  },
  {
   "cell_type": "code",
   "execution_count": 168,
   "metadata": {},
   "outputs": [
    {
     "name": "stderr",
     "output_type": "stream",
     "text": [
      "C:\\anaconda\\lib\\site-packages\\ipykernel_launcher.py:5: DeprecationWarning: Call to deprecated `__getitem__` (Method will be removed in 4.0.0, use self.wv.__getitem__() instead).\n",
      "  \"\"\"\n",
      "C:\\anaconda\\lib\\site-packages\\ipykernel_launcher.py:8: DeprecationWarning: Call to deprecated `__contains__` (Method will be removed in 4.0.0, use self.wv.__contains__() instead).\n",
      "  \n",
      "C:\\anaconda\\lib\\site-packages\\ipykernel_launcher.py:9: DeprecationWarning: Call to deprecated `__getitem__` (Method will be removed in 4.0.0, use self.wv.__getitem__() instead).\n",
      "  if __name__ == '__main__':\n"
     ]
    }
   ],
   "source": [
    "X_test_embed_w2v= items_to_embed_w2v(X_test, model)"
   ]
  },
  {
   "cell_type": "code",
   "execution_count": 169,
   "metadata": {},
   "outputs": [],
   "source": [
    "from scipy.sparse import csr_matrix\n",
    "X_train_embed_w2v = csr_matrix(X_train_embed_w2v)\n",
    "X_test_embed_w2v = csr_matrix(X_test_embed_w2v)"
   ]
  },
  {
   "cell_type": "code",
   "execution_count": 170,
   "metadata": {},
   "outputs": [
    {
     "data": {
      "text/plain": [
       "0.5766666666666667"
      ]
     },
     "execution_count": 170,
     "metadata": {},
     "output_type": "execute_result"
    }
   ],
   "source": [
    "LogReg.fit(X_train_embed_w2v, y_train)\n",
    "y_pred_embed_w2v = LogReg.predict(X_test_embed_w2v)\n",
    "accuracy_score(y_test, y_pred_embed_w2v)"
   ]
  },
  {
   "cell_type": "code",
   "execution_count": 171,
   "metadata": {},
   "outputs": [
    {
     "data": {
      "text/plain": [
       "0.2921111111111111"
      ]
     },
     "execution_count": 171,
     "metadata": {},
     "output_type": "execute_result"
    }
   ],
   "source": [
    "SVM.fit(X_train_embed_w2v, y_train)\n",
    "y_pred_embed2_w2v = SVM.predict(X_test_embed_w2v)\n",
    "accuracy_score(y_test, y_pred_embed2_w2v)"
   ]
  },
  {
   "cell_type": "markdown",
   "metadata": {},
   "source": [
    "**Вывод:** Как и в другом эмбеддинге качество низкое, что связано с самим методом эмбеддинга, который не подходит под наши данные"
   ]
  },
  {
   "cell_type": "markdown",
   "metadata": {},
   "source": [
    "# 3, 4, 5"
   ]
  },
  {
   "cell_type": "markdown",
   "metadata": {},
   "source": [
    "Выберем токенизатор *RegexpTokenizer*, который удаляет все знаки препинания\n",
    "\n",
    "Далее подключим pymorphy, из которого для слов сделаем *MorphAnalyzer* (что-то похожее делали уже в стемминге выше, но здесь будут выводиться изначальные формы слов)\n",
    "\n",
    "Попробуем методы bow и tf-idf (второй лучше), для которого подберем гиперпараметры и доведем качество до 0.82"
   ]
  },
  {
   "cell_type": "code",
   "execution_count": 172,
   "metadata": {},
   "outputs": [
    {
     "data": {
      "text/plain": [
       "['Eighty', 'seven', 'miles', 'to', 'go', 'yet', 'Onward']"
      ]
     },
     "execution_count": 172,
     "metadata": {},
     "output_type": "execute_result"
    }
   ],
   "source": [
    "from nltk.tokenize import RegexpTokenizer \n",
    "tokeny = RegexpTokenizer(r'\\w+') \n",
    "tokeny.tokenize('Eighty-seven miles to go, yet. Onward!') "
   ]
  },
  {
   "cell_type": "code",
   "execution_count": 173,
   "metadata": {},
   "outputs": [
    {
     "name": "stdout",
     "output_type": "stream",
     "text": [
      "Requirement already satisfied: pymorphy2 in c:\\anaconda\\lib\\site-packages (0.8)\n",
      "Requirement already satisfied: pymorphy2-dicts<3.0,>=2.4 in c:\\anaconda\\lib\\site-packages (from pymorphy2) (2.4.393442.3710985)\n",
      "Requirement already satisfied: docopt>=0.6 in c:\\anaconda\\lib\\site-packages (from pymorphy2) (0.6.2)\n",
      "Requirement already satisfied: dawg-python>=0.7 in c:\\anaconda\\lib\\site-packages (from pymorphy2) (0.7.2)\n",
      "Requirement already satisfied: pymorphy2-dicts in c:\\anaconda\\lib\\site-packages (2.4.393442.3710985)\n",
      "Requirement already satisfied: DAWG-Python in c:\\anaconda\\lib\\site-packages (0.7.2)\n"
     ]
    }
   ],
   "source": [
    "!pip install pymorphy2\n",
    "!pip install pymorphy2-dicts\n",
    "!pip install DAWG-Python"
   ]
  },
  {
   "cell_type": "code",
   "execution_count": 174,
   "metadata": {},
   "outputs": [],
   "source": [
    "from pymorphy2 import MorphAnalyzer\n",
    "pymorphy2_analyzer = MorphAnalyzer()"
   ]
  },
  {
   "cell_type": "code",
   "execution_count": 175,
   "metadata": {},
   "outputs": [],
   "source": [
    "tokenized_example = tokeny.tokenize('Eighty-seven miles to go, yet. Onward!') "
   ]
  },
  {
   "cell_type": "code",
   "execution_count": 176,
   "metadata": {},
   "outputs": [
    {
     "data": {
      "text/plain": [
       "'to'"
      ]
     },
     "execution_count": 176,
     "metadata": {},
     "output_type": "execute_result"
    }
   ],
   "source": [
    "ana = pymorphy2_analyzer.parse(tokenized_example[3])\n",
    "ana[0].normal_form"
   ]
  },
  {
   "cell_type": "code",
   "execution_count": 177,
   "metadata": {},
   "outputs": [],
   "source": [
    "def items_tokenize(stroka):\n",
    "    example = tokeny.tokenize(stroka)\n",
    "    easy = []\n",
    "    for i in range(len(example)):\n",
    "        ana = pymorphy2_analyzer.parse(example[i])\n",
    "        easy.append(ana[0].normal_form)\n",
    "    return easy"
   ]
  },
  {
   "cell_type": "code",
   "execution_count": 178,
   "metadata": {},
   "outputs": [
    {
     "data": {
      "text/plain": [
       "['eighty', 'seven', 'miles', 'to', 'go', 'yet', 'onward']"
      ]
     },
     "execution_count": 178,
     "metadata": {},
     "output_type": "execute_result"
    }
   ],
   "source": [
    "items_tokenize('Eighty-seven miles to go, yet. Onward!')"
   ]
  },
  {
   "cell_type": "code",
   "execution_count": 179,
   "metadata": {},
   "outputs": [],
   "source": [
    "def preprocess_py(text: str) -> str:\n",
    "    t = items_tokenize(text.lower())\n",
    "    return ' '.join(t)"
   ]
  },
  {
   "cell_type": "code",
   "execution_count": 180,
   "metadata": {},
   "outputs": [],
   "source": [
    "X_train_py = []\n",
    "for i in range(len(X_train)):\n",
    "    X_train_py.append([preprocess_py(X_train[i][0]), preprocess_py(X_train[i][1])])\n",
    "X_test_py = []\n",
    "for j in range(len(X_test)):\n",
    "    X_test_py.append([preprocess_py(X_test[j][0]), preprocess_py(X_test[j][1])])"
   ]
  },
  {
   "cell_type": "code",
   "execution_count": 181,
   "metadata": {},
   "outputs": [],
   "source": [
    "X_all_py = []\n",
    "for i in range(len(X_train)):\n",
    "    X_all_py.append(X_train_py[i][0].split(' '))\n",
    "    X_all_py.append(X_train_py[i][1].split(' '))"
   ]
  },
  {
   "cell_type": "code",
   "execution_count": 182,
   "metadata": {},
   "outputs": [],
   "source": [
    "tokens_cnt_py = {}\n",
    "for token in X_all_py:\n",
    "    for toks in token:\n",
    "        try:\n",
    "            tokens_cnt_py.update({toks: tokens_cnt_py[toks] + 1})\n",
    "        except KeyError:\n",
    "            tokens_cnt_py.update({toks: 1})"
   ]
  },
  {
   "cell_type": "code",
   "execution_count": 183,
   "metadata": {},
   "outputs": [],
   "source": [
    "new_dict_py = {}\n",
    "tokens_list_py =[]\n",
    "b = sorted(list(tokens_cnt_py.items()), key=lambda x: x[1])[-10000:]\n",
    "for para in b:\n",
    "    new_dict_py.update({para[0]: para[1]})\n",
    "    tokens_list_py.append(para[0])\n",
    "tokens_cnt_py = new_dict_py"
   ]
  },
  {
   "cell_type": "code",
   "execution_count": 184,
   "metadata": {},
   "outputs": [],
   "source": [
    "X_train_bow_py = des_to_bow(X_train, tokens_list_py)\n",
    "X_test_bow_py = des_to_bow(X_test, tokens_list_py)"
   ]
  },
  {
   "cell_type": "code",
   "execution_count": 185,
   "metadata": {},
   "outputs": [],
   "source": [
    "X_train_bow_py = csr_matrix(X_train_bow_py)"
   ]
  },
  {
   "cell_type": "code",
   "execution_count": 186,
   "metadata": {},
   "outputs": [],
   "source": [
    "X_test_bow_py = csr_matrix(X_test_bow_py)"
   ]
  },
  {
   "cell_type": "code",
   "execution_count": 187,
   "metadata": {},
   "outputs": [
    {
     "data": {
      "text/plain": [
       "0.7308888888888889"
      ]
     },
     "execution_count": 187,
     "metadata": {},
     "output_type": "execute_result"
    }
   ],
   "source": [
    "LogReg.fit(X_train_bow_py, y_train)\n",
    "y_pred_py = LogReg.predict(X_test_bow_py)\n",
    "accuracy_score(y_test, y_pred_py)"
   ]
  },
  {
   "cell_type": "code",
   "execution_count": 188,
   "metadata": {},
   "outputs": [
    {
     "data": {
      "text/plain": [
       "0.7222222222222222"
      ]
     },
     "execution_count": 188,
     "metadata": {},
     "output_type": "execute_result"
    }
   ],
   "source": [
    "SVM.fit(X_train_bow_py, y_train)\n",
    "y_pred_py2 = SVM.predict(X_test_bow_py)\n",
    "accuracy_score(y_test, y_pred_py2)"
   ]
  },
  {
   "cell_type": "code",
   "execution_count": 189,
   "metadata": {},
   "outputs": [],
   "source": [
    "X_all_items_py = []\n",
    "for i in range(len(X_train_py)):\n",
    "    X_all_items_py.append(X_all_py[2*i] + X_all_py[2*i+1])"
   ]
  },
  {
   "cell_type": "code",
   "execution_count": 190,
   "metadata": {},
   "outputs": [],
   "source": [
    "word_document_cnt_py = {}\n",
    "for token in tokens_list_py:\n",
    "    i = 0\n",
    "    for toks in X_all_items_py:\n",
    "        if token in toks:\n",
    "            i += 1\n",
    "    word_document_cnt_py.update({token: i})"
   ]
  },
  {
   "cell_type": "code",
   "execution_count": 191,
   "metadata": {},
   "outputs": [],
   "source": [
    "def text_to_tfidf(text: str, word_document_cnt: dict, tokens_list: list, n_documents_total: int) -> np.array:\n",
    "    \"\"\"\n",
    "    Возвращает вектор, где для каждого слова из словаря\n",
    "    указан tf-idf\n",
    "    \"\"\"\n",
    "    vector_TF = np.zeros(len(tokens_list))\n",
    "    spisok = text.split(' ')\n",
    "    for i in spisok:\n",
    "        try:\n",
    "            TF = spisok.count(i) / len(spisok)\n",
    "            vector_TF[tokens_list.index(i)] = TF\n",
    "        except ValueError:\n",
    "            pass\n",
    "            \n",
    "    vector_IDF = np.zeros(len(tokens_list))\n",
    "    for i in spisok:\n",
    "        try:\n",
    "            IDF = np.log(n_documents_total / word_document_cnt[i])\n",
    "            vector_IDF[tokens_list.index(i)] = IDF\n",
    "        except KeyError or ValueError:\n",
    "            pass\n",
    "      \n",
    "    vector = np.zeros(len(tokens_list))\n",
    "    for i in range(len(tokens_list)):\n",
    "        vector[i] = vector_TF[i] * vector_IDF[i]\n",
    "    return vector"
   ]
  },
  {
   "cell_type": "code",
   "execution_count": 192,
   "metadata": {},
   "outputs": [],
   "source": [
    "def items_to_tfidf(items: np.array, word_document_cnt: dict, tokens_list: list, n_documents_total: int) -> np.array:\n",
    "    \"\"\"\n",
    "    Для каждого товара возвращает его tf-idf вектор\n",
    "    \"\"\"\n",
    "    respek = []\n",
    "    tf_idf_respek = []\n",
    "    for i in range(len(items)):\n",
    "        respek.append(items[i][0] + ' ' + items[i][1])\n",
    "    for i in range(len(items)):\n",
    "        tf_idf_respek.append(text_to_tfidf(respek[i], word_document_cnt, tokens_list, n_documents_total))\n",
    "    return np.asarray(tf_idf_respek)"
   ]
  },
  {
   "cell_type": "code",
   "execution_count": 193,
   "metadata": {},
   "outputs": [],
   "source": [
    "X_train_tfidf_py = items_to_tfidf(X_train_py, word_document_cnt_py, tokens_list_py, len(X_train_py))"
   ]
  },
  {
   "cell_type": "code",
   "execution_count": 194,
   "metadata": {},
   "outputs": [],
   "source": [
    "X_test_tfidf_py = items_to_tfidf(X_test_py, word_document_cnt_py, tokens_list_py, len(X_train_py))"
   ]
  },
  {
   "cell_type": "code",
   "execution_count": 195,
   "metadata": {},
   "outputs": [],
   "source": [
    "X_train_tfidf_py = csr_matrix(X_train_tfidf_py)\n",
    "X_test_tfidf_py = csr_matrix(X_test_tfidf_py)"
   ]
  },
  {
   "cell_type": "code",
   "execution_count": 196,
   "metadata": {},
   "outputs": [
    {
     "data": {
      "text/plain": [
       "0.7407777777777778"
      ]
     },
     "execution_count": 196,
     "metadata": {},
     "output_type": "execute_result"
    }
   ],
   "source": [
    "LogReg.fit(X_train_tfidf_py, y_train)\n",
    "y_pred_tfidf_py = LogReg.predict(X_test_tfidf_py)\n",
    "accuracy_score(y_test, y_pred_tfidf_py)"
   ]
  },
  {
   "cell_type": "code",
   "execution_count": 197,
   "metadata": {},
   "outputs": [
    {
     "data": {
      "text/plain": [
       "0.8186666666666667"
      ]
     },
     "execution_count": 197,
     "metadata": {},
     "output_type": "execute_result"
    }
   ],
   "source": [
    "SVM.fit(X_train_tfidf_py, y_train)\n",
    "y_pred_tfidf2_py = SVM.predict(X_test_tfidf_py)\n",
    "accuracy_score(y_test, y_pred_tfidf2_py)"
   ]
  },
  {
   "cell_type": "code",
   "execution_count": 198,
   "metadata": {},
   "outputs": [
    {
     "data": {
      "text/plain": [
       "0.8204444444444444"
      ]
     },
     "execution_count": 198,
     "metadata": {},
     "output_type": "execute_result"
    }
   ],
   "source": [
    "SVM3 = sklearn.svm.LinearSVC(C = 0.8)\n",
    "SVM3.fit(X_train_tfidf_py, y_train)\n",
    "y_pred_tfidf3_py = SVM3.predict(X_test_tfidf_py)\n",
    "accuracy_score(y_test, y_pred_tfidf3_py)"
   ]
  },
  {
   "cell_type": "markdown",
   "metadata": {},
   "source": [
    "**Вывод:** Метод TF-IDF лучше Bow, комбинация хорошего препроцессинга (убрать лишнее, например знаки препинания), стемминга и морфного анализа помогают решить задачу"
   ]
  },
  {
   "cell_type": "markdown",
   "metadata": {},
   "source": [
    "# Ну вот и все, победа! Ура, спасибо за внимание!"
   ]
  },
  {
   "cell_type": "markdown",
   "metadata": {},
   "source": []
  }
 ],
 "metadata": {
  "colab": {
   "collapsed_sections": [],
   "name": "Untitled2.ipynb",
   "provenance": []
  },
  "kernelspec": {
   "display_name": "Python 3",
   "language": "python",
   "name": "python3"
  },
  "language_info": {
   "codemirror_mode": {
    "name": "ipython",
    "version": 3
   },
   "file_extension": ".py",
   "mimetype": "text/x-python",
   "name": "python",
   "nbconvert_exporter": "python",
   "pygments_lexer": "ipython3",
   "version": "3.8.5"
  }
 },
 "nbformat": 4,
 "nbformat_minor": 4
}
